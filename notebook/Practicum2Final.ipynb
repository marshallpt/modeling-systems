{
  "nbformat": 4,
  "nbformat_minor": 0,
  "metadata": {
    "colab": {
      "provenance": []
    },
    "kernelspec": {
      "name": "python3",
      "display_name": "Python 3"
    },
    "language_info": {
      "name": "python"
    }
  },
  "cells": [
    {
      "cell_type": "markdown",
      "source": [
        "# Imports"
      ],
      "metadata": {
        "id": "kEDq4Rf1HZZQ"
      }
    },
    {
      "cell_type": "code",
      "source": [
        "import math\n",
        "import matplotlib.pyplot as plt\n",
        "import matplotlib.patches as mpatches\n",
        "import matplotlib\n",
        "import numpy as np\n",
        "from numpy.typing import ArrayLike\n",
        "from typing import List\n",
        "from typing import Tuple\n",
        "from math import pi"
      ],
      "metadata": {
        "id": "nHJ-hXPusul3"
      },
      "execution_count": null,
      "outputs": []
    },
    {
      "cell_type": "markdown",
      "source": [
        "# Practicum 2-1\n",
        "Setting up a DC motor config."
      ],
      "metadata": {
        "id": "zEz_WcLascqz"
      }
    },
    {
      "cell_type": "markdown",
      "source": [
        "## DCMotorConfig\n",
        "**DCMotorConfig()** is a dataclass used to hold constant values for a DC motor. This makes life a lot easier when interacting with our DC motor model, as we only need to pass an instance of this class around, instead of six different float values. \n",
        "\n",
        "The advantage of using a **data class** over a vanilla python class is that it generates a lot of boilerplate for us. As can be seen in our data class below, there's no need to write an **__init__()** function because it is generated for us. While not used in our code, data classes also generate __repr__() functions so printing class instances show the data members inside instead of a memory address."
      ],
      "metadata": {
        "id": "ifOi7oSksZId"
      }
    },
    {
      "cell_type": "code",
      "source": [
        "from dataclasses import dataclass\n",
        "@dataclass\n",
        "class DCMotorConfig:\n",
        "  \"\"\"Store constant values for a DC Motor.\n",
        "  \n",
        "  R: float: resistance (Ohms)\n",
        "  L: float: inductance (Henry)\n",
        "  b: float: dampening (Nms)\n",
        "  J: float: moment of inertia (kgm^2)\n",
        "  K_m: float: back emf constant\n",
        "  K_tau: float: motor torque constant\"\"\"\n",
        "  R: float\n",
        "  L: float\n",
        "  b: float\n",
        "  J: float\n",
        "  Km: float\n",
        "  Ktau: float"
      ],
      "metadata": {
        "id": "3HRV5DWwsZIf"
      },
      "execution_count": null,
      "outputs": []
    },
    {
      "cell_type": "markdown",
      "source": [
        "The equations for our DC motor:\n",
        "\n",
        "\n",
        "$$L\\frac{di(t)}{dt}+Ri(t)+K_m\\dot{\\theta}(t)=v(t) \\tag{1}$$\n",
        "$$J\\ddot{\\theta}+b\\dot{\\theta}=K_\\tau i(t) \\tag{2}$$\n",
        "\n",
        "To evaluate the DC motor, I will first establish my state variables.\n",
        "$$\\begin{bmatrix}\n",
        "x_1 \\\\ x_2 \\\\ x_3\n",
        "\\end{bmatrix}\\equiv\n",
        "\\begin{bmatrix}\n",
        "i \\\\\n",
        "\\theta \\\\\n",
        "\\dot{\\theta}\n",
        "\\end{bmatrix}$$\n",
        "\n",
        "$$\\begin{bmatrix}\n",
        "u\n",
        "\\end{bmatrix}\\equiv\n",
        "\\begin{bmatrix}\n",
        "v\n",
        "\\end{bmatrix}$$\n",
        "\n",
        "We'll begin by plugging into **equation 1**:\n",
        "$$L\\dot{x_1}+Rx_1+K_mx_3=u$$\n",
        "$$L\\dot{x_1}=u-Rx_1-K_mx_3$$\n",
        "$$\\dot{x_1}=\\frac{1}{L}u-\\frac{R}{L}x_1-\\frac{K_m}{L}x_3$$\n",
        "\n",
        "Now we'll solve **equation 2**:\n",
        "$$J\\dot{x_3}+bx_3=K_\\tau x_1$$\n",
        "$$J\\dot{x_3}=K_\\tau x_1-bx_3$$\n",
        "$$\\dot{x_3}=\\frac{K_\\tau}{J} x_1-\\frac{b}{J}x_3$$\n",
        "\n",
        "Looking closely at our state variables, we can assert that:\n",
        "$$\\dot{x_2}=x_3$$\n",
        "\n",
        "Now we have differential equations for all of our state variables:\n",
        "\\begin{align}\n",
        "\\dot{x_1}&=\\frac{1}{L}u-\\frac{R}{L}x_1-\\frac{K_m}{L}x_3 \\\\\n",
        "\\dot{x_2}&=x_3 \\\\\n",
        "\\dot{x_3}&=\\frac{K_\\tau}{J} x_1-\\frac{b}{J}x_3\n",
        "\\end{align}\n",
        "\n",
        "Now we have our values for A and B:\n",
        "$$\\dot{x}=Ax+Bu \\\\\n",
        "\\begin{bmatrix}\n",
        "\\dot{x_1} \\\\ \\dot{x_2} \\\\ \\dot{x_3}\n",
        "\\end{bmatrix} =\n",
        "\\begin{bmatrix}\n",
        "-\\frac{R}{L} & 0 & -\\frac{K_m}{L} \\\\\n",
        "0 & 0 & 1 \\\\\n",
        "\\frac{K_\\tau}{J} & 0 & \\frac{b}{J}\n",
        "\\end{bmatrix}\n",
        "\\begin{bmatrix}\n",
        "x_1 \\\\ x_2 \\\\ x_3\n",
        "\\end{bmatrix}+\n",
        "\\begin{bmatrix}\n",
        "\\frac{1}{L} \\\\\n",
        "0 \\\\\n",
        "0\n",
        "\\end{bmatrix}\n",
        "\\begin{bmatrix}\n",
        "u\n",
        "\\end{bmatrix}$$\n",
        "\n",
        "This equations for the DC motor is implemented in the **DCMotor** class below:"
      ],
      "metadata": {
        "id": "OWCAhgpWsZIg"
      }
    },
    {
      "cell_type": "markdown",
      "source": [
        "## DCMotor\n",
        "My **DCMotor** class creates A and B matrices when initialized as derived above. When called, it returns the evaluation of $\\dot{x}=Ax+Bu$."
      ],
      "metadata": {
        "id": "bdEIM8zqsZIh"
      }
    },
    {
      "cell_type": "code",
      "source": [
        "class DCMotor:\n",
        "  def __init__(self, motor_cfg: DCMotorConfig) -> None:\n",
        "    \"\"\"Create A and B matrices from the motor_cfg.\"\"\"\n",
        "    self.A = np.array([[-1*motor_cfg.R/motor_cfg.L, 0, -1*motor_cfg.Km/motor_cfg.L],\n",
        "                       [0, 0, 1],\n",
        "                       [motor_cfg.Ktau/motor_cfg.J, 0, -1*motor_cfg.b/motor_cfg.J]])\n",
        "    self.B = np.array([1/motor_cfg.L,\n",
        "                       0,\n",
        "                       0])\n",
        "  def __call__(self, x: ArrayLike, u: float) -> ArrayLike:\n",
        "    \"\"\"Perform xdot = Ax+Ub.\"\"\"\n",
        "    a_term = np.dot(self.A,x)\n",
        "    b_term = self.B*u\n",
        "    return a_term + b_term"
      ],
      "metadata": {
        "id": "g-0epwf4sZIi"
      },
      "execution_count": null,
      "outputs": []
    },
    {
      "cell_type": "markdown",
      "source": [
        "## Evaluation 1\n",
        "Below, I tested some values to make sure that my DCMotor class is working. I tested the following configurations:\n",
        "\n",
        " Evaluation | State Values! Google collab wants to word wrap  | Input\n",
        "-------| ------|-------- \n",
        "1 | $i=0.0A$, $\\theta=0rad$, $\\dot{\\theta}=0rad/s$ | $v$ = 2.0V\n",
        "2 | $i=0.0A$, $\\theta=0rad$, $\\dot{\\theta}=0rad/s$ | $v$ = -2.0V\n",
        "3 | $i=1.0A$, $\\theta=0rad$, $\\dot{\\theta}=0rad/s$ | $v$ = 0.0V"
      ],
      "metadata": {
        "id": "JMoIxYS2tMXi"
      }
    },
    {
      "cell_type": "code",
      "source": [
        "cfg = DCMotorConfig(R=1.8, L=0.85e-2, Km=4.6, Ktau=6.2, b=0.035, J=0.032)\n",
        "dcmotor1 = DCMotor(motor_cfg=cfg)\n",
        "print(f\"Evaluation 1: {dcmotor1(x=np.array([0, 0, 0]), u=2.0)}\")\n",
        "print(f\"Evaluation 2: {dcmotor1(x=np.array([0, 0, 0]), u=-2.0)}\")\n",
        "print(f\"Evaluation 3: {dcmotor1(x=np.array([1, 0, 0]), u=0.0)}\")"
      ],
      "metadata": {
        "colab": {
          "base_uri": "https://localhost:8080/"
        },
        "id": "Cch2EIostNlQ",
        "outputId": "7f9bc123-ca72-4799-9528-12a5dacd3679"
      },
      "execution_count": null,
      "outputs": [
        {
          "output_type": "stream",
          "name": "stdout",
          "text": [
            "Evaluation 1: [235.29411765   0.           0.        ]\n",
            "Evaluation 2: [-235.29411765    0.            0.        ]\n",
            "Evaluation 3: [-211.76470588    0.          193.75      ]\n"
          ]
        }
      ]
    },
    {
      "cell_type": "markdown",
      "source": [
        "### Reflection\n",
        "\n",
        "1. State variables of zero, input of 2V. Output is positive current but no instantaneous position or velocity change.\n",
        "  * Output matches expecations. There won't be instant\n",
        "  position or velocity change, but there will be an instant current\n",
        "  change from the potential difference being applied.\n",
        "1. State variables of zero, input of -2V. Output is negative current but no instantaneous position or velocity change.\n",
        "  * Output matches expecations. There won't be instant\n",
        "    position or velocity change, but there will be an instant \n",
        "    current change from the potential difference being applied.\n",
        "1. State variables of positive current, with position and velocity = 0.Output is negative current and positive velocity.\n",
        "  * Output matches expectations. With a negative current initially, a velocity is expected."
      ],
      "metadata": {
        "id": "gYtkNVLVOBvB"
      }
    },
    {
      "cell_type": "markdown",
      "source": [
        "## RK2 Integrator\n",
        "Below is the RK2 integrator I built in Practicum 1, but updated to work with my DCMotor class."
      ],
      "metadata": {
        "id": "6LTpwHmAsZIl"
      }
    },
    {
      "cell_type": "code",
      "execution_count": null,
      "metadata": {
        "id": "CwE8LocSx14j"
      },
      "outputs": [],
      "source": [
        "def rk2_integration(dyn_func: callable, \n",
        "                    u: callable, \n",
        "                    x_0: ArrayLike,\n",
        "                    t_0: float, \n",
        "                    t_f: float, \n",
        "                    delta_t: float) -> list:\n",
        "  \"\"\"Perform Runge-Kutta integration.\n",
        "  \n",
        "  dyn_func: callable: dynamic function to integrate\n",
        "  u: callable: input voltage(as a func of time)\n",
        "  x_0: ArrayLike: initial conditions\n",
        "  t_0: float: initial time\n",
        "  t_f: float: final time=\n",
        "  delta_t: float: time step size\"\"\"\n",
        "  # Generate our t values\n",
        "  t_vals = np.arange(start=t_0, \n",
        "                      stop=t_f+delta_t, \n",
        "                      step=delta_t)\n",
        "\n",
        "  # Creating our result array\n",
        "  x_vals = np.zeros([len(t_vals), np.shape(x_0)[0]])\n",
        "  x_vals[0] = x_0\n",
        "\n",
        "  for i in range(1, len(t_vals)):\n",
        "    # Creating temp variables to ease equation-writing\n",
        "    t = t_vals[i-1]\n",
        "    x_k = x_vals[i-1]\n",
        "\n",
        "    f_1 = dyn_func(x=x_k,u=u(t))\n",
        "    f_2 = dyn_func(x=x_k + delta_t/2*f_1, u=u(t+delta_t/2))\n",
        "\n",
        "    x_k_1 = x_k + delta_t*f_2\n",
        "    x_vals[i] = x_k_1\n",
        "  return t_vals, x_vals"
      ]
    },
    {
      "cell_type": "markdown",
      "source": [
        "## Unit Impulse\n",
        "My **unit_impulse()** function returns 1 if t=0, else returns 0."
      ],
      "metadata": {
        "id": "odoALx_yvwc-"
      }
    },
    {
      "cell_type": "code",
      "source": [
        "def unit_impulse(t: float) -> float:\n",
        "  \"\"\"Returns 1 at t=0, else returns 0.\"\"\"\n",
        "  if t==0:\n",
        "    return 1\n",
        "  else:\n",
        "    return 0"
      ],
      "metadata": {
        "id": "G8JyAADFv3px"
      },
      "execution_count": null,
      "outputs": []
    },
    {
      "cell_type": "markdown",
      "source": [
        "## Unit Step\n",
        "My **unit_step()** function returns 1 if t>=0, else returns 0."
      ],
      "metadata": {
        "id": "3xjBLNx7v_ps"
      }
    },
    {
      "cell_type": "code",
      "source": [
        "def unit_step(t: float) -> float:\n",
        "  \"\"\"Returns 1 if t>=0, else returns 0.\"\"\"\n",
        "  if t>=0:\n",
        "    return 1\n",
        "  else:\n",
        "    return 0"
      ],
      "metadata": {
        "id": "B-ozLxa0wBfH"
      },
      "execution_count": null,
      "outputs": []
    },
    {
      "cell_type": "markdown",
      "source": [
        "## Sinusoid\n",
        "My **sinusoid()** function from Practicum 1."
      ],
      "metadata": {
        "id": "fccbPf34w6dT"
      }
    },
    {
      "cell_type": "code",
      "source": [
        "def sinusoid(t: float,\n",
        "           A: float=2.0,\n",
        "           omega: float=2.0 * math.pi,\n",
        "           phi: float=0) -> float:\n",
        "  \"\"\"Return sinusoidal input function at t.\n",
        "  \n",
        "  t: float: time value to evaluate\n",
        "  A: float: amplitude of the sin wave\n",
        "  omega: float: period of the sin wave\n",
        "  phi: float: phase shift of the sin wave\"\"\"\n",
        "  return A * math.sin(omega * t + phi)"
      ],
      "metadata": {
        "id": "74Qktyd0w-W8"
      },
      "execution_count": null,
      "outputs": []
    },
    {
      "cell_type": "markdown",
      "source": [
        "## Evaluation 2\n",
        "Per usual, I wrote a function to do my plotting for me - which I probably spent more time writing than if I'd just done all the plotting manually, but hey. This makes it easier to try out different values! And it makes my code cleaner (probably)."
      ],
      "metadata": {
        "id": "J_TiBp6JHKa8"
      }
    },
    {
      "cell_type": "code",
      "source": [
        "def evaluation_two(dyn_func: callable,\n",
        "                   u: list,\n",
        "                   x_0: list,\n",
        "                   duration: float, \n",
        "                   delta_t: float,\n",
        "                   titles: list):\n",
        "  \"\"\"Plot the DC motor with a list of initial conditions\n",
        "  and input functions.\n",
        "  \n",
        "  dyn_func: callable: function to plot\n",
        "  u: list[callable]: input voltage functions\n",
        "  x_0: list[ArrayLike]: 2d array of initial conditions\n",
        "  duration: float: length of time to integrate over\n",
        "  delta_t: float: time step value to plot\n",
        "  title: list[string]: titles for the plots\"\"\"\n",
        "  \n",
        "  # Create a new figure\n",
        "  fig = plt.figure(figsize=(15, 5))\n",
        "  axs = fig.subplots(2, len(u))\n",
        "  plt.subplots_adjust(wspace=0.4,\n",
        "                    hspace=0.4)\n",
        "  plt.suptitle(f\"Evaluation 2\",\n",
        "               fontsize='x-large')\n",
        "  for i in range(len(u)):\n",
        "    # plt.subplot(2, len(u), i+1)\n",
        "    t_vals, x_vals = rk2_integration(dyn_func=dyn_func,\n",
        "                                     u=u[i],\n",
        "                                     x_0=x_0[i],\n",
        "                                     t_0=0,\n",
        "                                     t_f=duration,\n",
        "                                     delta_t=delta_t)\n",
        "    axs[0, i].plot(t_vals, [x[1] for x in x_vals])\n",
        "    \n",
        "    # Adding appropriate labels\n",
        "    axs[0, i].set_title(titles[i])\n",
        "    axs[0, i].set_xlabel(\"Time $(s)$\")\n",
        "    axs[0, i].set_ylabel(\"Position $(\\Theta)$\")\n",
        "\n",
        "    # plt.subplot(2, len(b), i+(1+len(b)))\n",
        "    axs[1, i].plot(t_vals, [x[2] for x in x_vals], color=\"red\")\n",
        "    \n",
        "    # Adding appropriate labels\n",
        "    axs[1, i].set_xlabel(\"Time $(s)$\")\n",
        "    axs[1, i].set_ylabel(\"Speed $(\\dot{\\Theta})$\")"
      ],
      "metadata": {
        "id": "TxmYTWav_Zve"
      },
      "execution_count": null,
      "outputs": []
    },
    {
      "cell_type": "markdown",
      "source": [
        "Below, I set up my lists and call my evaluation function."
      ],
      "metadata": {
        "id": "_nM7q5aGT79R"
      }
    },
    {
      "cell_type": "code",
      "source": [
        "from functools import partial\n",
        "# lets me pass a sinusoid with parameters\n",
        "\n",
        "x_0_list = np.array([[0,0,0],\n",
        "                    [0,0,0],\n",
        "                    [0,0,0],\n",
        "                    [2.5,0,0]])\n",
        "\n",
        "u_list = [unit_impulse,\n",
        "          unit_step,\n",
        "          partial(sinusoid, A=2.0, omega=2.0, phi=0),\n",
        "          lambda u: 0]\n",
        "\n",
        "titles = [\"unit_impulse\",\n",
        "          \"unit_step\",\n",
        "          \"sinusoid\",\n",
        "          \"zero\"]\n",
        "          \n",
        "duration = 0.5\n",
        "delta_t = 0.001\n",
        "evaluation_two(dyn_func=dcmotor1,\n",
        "               u=u_list,\n",
        "               x_0=x_0_list,\n",
        "               duration=duration, \n",
        "               delta_t=delta_t,\n",
        "               titles=titles)"
      ],
      "metadata": {
        "colab": {
          "base_uri": "https://localhost:8080/",
          "height": 373
        },
        "id": "3x3xM0Q8CPmv",
        "outputId": "59879296-7fd2-4cf7-cf19-5d62de203143"
      },
      "execution_count": null,
      "outputs": [
        {
          "output_type": "display_data",
          "data": {
            "text/plain": [
              "<Figure size 1080x360 with 8 Axes>"
            ],
            "image/png": "[encoded data removed]"
          },
          "metadata": {
            "needs_background": "light"
          }
        }
      ]
    },
    {
      "cell_type": "markdown",
      "source": [
        "### Reflection\n",
        "\n",
        "*   **unit_impulse**: Matches expectations. With initial conditions at zero, for a short impulse at t=0, I would expect to see a small jump in position and speed values with an eventual return to zero, which is what the plots indicate.\n",
        "*   **unit_step**: Matches expectations. With initial conditions at zero, and a constant input of 1 after t=0, I would exect to see a linear increase in position and a constant speed after a ramp-up, and that's what the plots indicate.\n",
        "*   **sinusoid**: Matches expectations. With initial conditions at zero, and a sinusoidal input, I would expect to see a nonlinear increase in position and speed, which is what the plots indicate.\n",
        "*   **zero**: Matches expectations. With an initial current but speed and position at zero, and with no input, I would expect to see speed jump off and then return to zero, with position jumping up and eventually staying constant non-zero, which is what the plot indicates.\n",
        "\n",
        "Overall, math-wise, this Practicum has yielded no real surprises thus far. The main surprise has been at how annoying **numpy** is about matrices with improper dimensions, and how and why it decides to use [broadcasting](https://numpy.org/doc/stable/user/basics.broadcasting.html) implicitly. That has added a lot of unecessary pain and anguish to what would otherwise be a pretty straightforward practicum.\n",
        "\n",
        "I like the new structure of using data classes and classes - it's definitely a lot cleaner than passing groups of floats around. All told, I've enjoyed this practicum!"
      ],
      "metadata": {
        "id": "8gd8fHB8TXUI"
      }
    },
    {
      "cell_type": "markdown",
      "source": [
        "# Practicum 2-2\n",
        "Weeks 2 and 3 of the project!"
      ],
      "metadata": {
        "id": "hZICOzKBqi3u"
      }
    },
    {
      "cell_type": "markdown",
      "source": [
        "## DCMotorConfig\n",
        "**DCMotorConfig()** is the same dataclass we made last week. Copied it here for easy reference."
      ],
      "metadata": {
        "id": "RYW88umNs7uq"
      }
    },
    {
      "cell_type": "code",
      "source": [
        "from dataclasses import dataclass\n",
        "@dataclass\n",
        "class DCMotorConfig:\n",
        "  \"\"\"Store constant values for a DC Motor.\n",
        "  \n",
        "  R: float: resistance (Ohms)\n",
        "  L: float: inductance (Henry)\n",
        "  b: float: dampening (Nms)\n",
        "  J: float: moment of inertia (kgm^2)\n",
        "  K_m: float: back emf constant\n",
        "  K_tau: float: motor torque constant\"\"\"\n",
        "  R: float\n",
        "  L: float\n",
        "  b: float\n",
        "  J: float\n",
        "  Km: float\n",
        "  Ktau: float"
      ],
      "metadata": {
        "id": "V1ySzRzas4ng"
      },
      "execution_count": null,
      "outputs": []
    },
    {
      "cell_type": "markdown",
      "source": [
        "## DCMotor\n",
        "To better represent an input/output system with a PLANT, we've bifurcated our **DCMotor** class from last week into a **DCMotorDynamics** class and a **DCMotor** class. Now, our new **DCMotor** class calls **DCMotorDynamics** under the hood - abstracting it away. So, **DCMotorDynamics** now is what **DCMotor** was last week, and the new **DCMotor** contains an output function which returns $\\theta$."
      ],
      "metadata": {
        "id": "-Qliw6WpvaVu"
      }
    },
    {
      "cell_type": "code",
      "source": [
        "class DCMotorDynamics:\n",
        "  \"\"\"Dynamics for a DC motor.\"\"\"\n",
        "  def __init__(self, motor_cfg: DCMotorConfig) -> None:\n",
        "    \"\"\"Create A and B matrices from the motor_cfg.\n",
        "    \n",
        "    motor_cfg: DCMotorConfig: dc motor config constants\"\"\"\n",
        "    self.A = np.array([[-1*motor_cfg.R/motor_cfg.L, 0, -1*motor_cfg.Km/motor_cfg.L],\n",
        "                       [0, 0, 1],\n",
        "                       [motor_cfg.Ktau/motor_cfg.J, 0, -1*motor_cfg.b/motor_cfg.J]])\n",
        "    self.B = np.array([1/motor_cfg.L,\n",
        "                       0,\n",
        "                       0])\n",
        "  def __call__(self, x: ArrayLike, u: float) -> ArrayLike:\n",
        "    \"\"\"Perform xdot = Ax+Ub.\n",
        "    \n",
        "    x: ArrayLike: x\n",
        "    u: float: input\"\"\"\n",
        "    a_term = np.dot(self.A,x)\n",
        "    b_term = self.B*u\n",
        "    return a_term + b_term\n",
        "\n",
        "class DCMotor:\n",
        "  \"\"\"Wrapper that abstracts away DCMotorDynamics.\"\"\"\n",
        "  def __init__(self, cfg: DCMotorConfig) -> None:\n",
        "    \"\"\"Inits dynamics.\n",
        "    \n",
        "    cfg: DCMotorConfig: dc motor config constants\"\"\"\n",
        "    self.config = cfg\n",
        "    self.dynamics = DCMotorDynamics(cfg)\n",
        "  \n",
        "  def output(self, x: ArrayLike) -> float:\n",
        "    \"\"\"Returns theta.\n",
        "    \n",
        "    x: ArrayLike: x\"\"\"\n",
        "    return x[1]"
      ],
      "metadata": {
        "id": "W4C27qr1tvjt"
      },
      "execution_count": null,
      "outputs": []
    },
    {
      "cell_type": "markdown",
      "source": [
        "## Evaluation 1\n",
        "Now that we've refactored, we're re-doing Eval 1 from Practicum 2-1 to verify it works the same.\n",
        "\n",
        " Evaluation | State Values! Google collab wants to word wrap  | Input\n",
        "-------| ------|-------- \n",
        "1 | $i=0.0A$, $\\theta=0rad$, $\\dot{\\theta}=0rad/s$ | $v$ = 2.0V\n",
        "2 | $i=0.0A$, $\\theta=0rad$, $\\dot{\\theta}=0rad/s$ | $v$ = -2.0V\n",
        "3 | $i=1.0A$, $\\theta=0rad$, $\\dot{\\theta}=0rad/s$ | $v$ = 0.0V"
      ],
      "metadata": {
        "id": "NfvmfWOznFEv"
      }
    },
    {
      "cell_type": "code",
      "source": [
        "cfg = DCMotorConfig(R=1.8, L=0.85e-2, Km=4.6, Ktau=6.2, b=0.035, J=0.032)\n",
        "dcmotor1 = DCMotor(cfg=cfg)\n",
        "print(f\"Evaluation 1: {dcmotor1.dynamics(x=np.array([0, 0, 0]), u=2.0)}\")\n",
        "print(f\"Evaluation 2: {dcmotor1.dynamics(x=np.array([0, 0, 0]), u=-2.0)}\")\n",
        "print(f\"Evaluation 3: {dcmotor1.dynamics(x=np.array([1, 0, 0]), u=0.0)}\")"
      ],
      "metadata": {
        "colab": {
          "base_uri": "https://localhost:8080/"
        },
        "id": "sPoKv0uVnGgw",
        "outputId": "6113bf0d-4a15-41ff-cd1a-b6414fd1b12c"
      },
      "execution_count": null,
      "outputs": [
        {
          "output_type": "stream",
          "name": "stdout",
          "text": [
            "Evaluation 1: [235.29411765   0.           0.        ]\n",
            "Evaluation 2: [-235.29411765    0.            0.        ]\n",
            "Evaluation 3: [-211.76470588    0.          193.75      ]\n"
          ]
        }
      ]
    },
    {
      "cell_type": "markdown",
      "source": [
        "### Reflection\n",
        "These outputs match what I got for Practicum 2-1 Evaluation 1 - and I'll save both of us the work of copying + pasting that reflection. What matters is that our output here matches that, which means our refactor was successful."
      ],
      "metadata": {
        "id": "8zwXljNlfDEn"
      }
    },
    {
      "cell_type": "markdown",
      "source": [
        "## Integrator\n",
        "We re-factored our numerical integration to make it more modular; following the lead of the [boost library.](https://www.boost.org/doc/libs/1_65_0/libs/numeric/odeint/doc/html/boost_numeric_odeint/odeint_in_detail/integrate_functions.html) Since every type of numerical integration requires some amount of duplicated boilerplate code, a better structure is to have a general \"simulate\" function that then calls a \"stepper\" function from within it. If we want to implement a different integrator function, now all we need to do is write a new \"stepper\"."
      ],
      "metadata": {
        "id": "7HKZSaJ-sXTJ"
      }
    },
    {
      "cell_type": "markdown",
      "source": [
        "### rk2_step\n",
        "This is a stepper for second-order runge-kutta numerical integration. In Practicum 1, I fully explained the logic behind RK2, so I'll spare that here. In short, the stepper:\n",
        "\n",
        "1. Computes $f_1$\n",
        "1. Computes $f_2$\n",
        "3. Computes $x_{k_1}$ using $f_1$ and $f_2$ and returns it"
      ],
      "metadata": {
        "id": "etCED9exKBLG"
      }
    },
    {
      "cell_type": "code",
      "source": [
        "from typing import Callable\n",
        "\n",
        "def rk2_step(dyn_func: Callable,\n",
        "             u_func: Callable,\n",
        "             x: ArrayLike,\n",
        "             t: float,\n",
        "             delta_t: float) -> ArrayLike:\n",
        "  \"\"\"Computing f1, f2, and x_k_1.\n",
        "  \n",
        "  dyn_func: Callable: function being integrated\n",
        "  u_func: Callable: input function\n",
        "  x: ArrayLike: x_k value using to estimate x_k_1\n",
        "  t: float: current time \n",
        "  delta_t: float: time step\"\"\"\n",
        "  f_1 = dyn_func(x=x,u=u_func(t))\n",
        "  f_2 = dyn_func(x=x + delta_t/2*f_1, u=u_func(t+delta_t/2))\n",
        "\n",
        "  x_k_1 = x + delta_t*f_2\n",
        "  return x_k_1"
      ],
      "metadata": {
        "id": "N9MRAJfvlj1D"
      },
      "execution_count": null,
      "outputs": []
    },
    {
      "cell_type": "markdown",
      "source": [
        "### simulate\n",
        "This is our general numerical integration wrapper that does everything except for the stepping: it lets another function handle that. Currently, the stepper is not a parameter for the function, but that would be a super easy refactor. What this boilerplate all does I've gone in-depth with before so I'll spare that here, but, in short:\n",
        "\n",
        "1. Generate t-value array from $t_0$ and $t_f$ values.\n",
        "1. Create a x-value array from the shape of $x_0$.\n",
        "1. Loop through the entire t-value array, calling the stepper on each iteration."
      ],
      "metadata": {
        "id": "FHennqdTJ78P"
      }
    },
    {
      "cell_type": "code",
      "source": [
        "def simulate(plant, \n",
        "             controller,\n",
        "             x_0: ArrayLike,\n",
        "             t_0: float,\n",
        "             t_f: float,\n",
        "             delta_t: float) -> Tuple[ArrayLike, ArrayLike]:\n",
        "  \"\"\"Generalized integrator function that uses a\n",
        "  stepper function to be more modular.\n",
        "  \n",
        "  plant: what we are controlling\n",
        "  controller: controller from which input is received\n",
        "  x_0: ArrayLike: initial conditions\n",
        "  t_0: float: initial time\n",
        "  t_f: float: final time\n",
        "  delta_t: float: time step\"\"\"\n",
        "  # Generate our t values\n",
        "  t_vals = np.arange(start=t_0, \n",
        "                      stop=t_f+delta_t, \n",
        "                      step=delta_t)\n",
        "\n",
        "  # Creating our result array\n",
        "  x_vals = np.zeros([len(t_vals), np.shape(x_0)[0]])\n",
        "  x_vals[0] = x_0\n",
        "\n",
        "  # Using our stepper\n",
        "  for i in range(1, len(t_vals)):\n",
        "    u_func = lambda t, measurement=plant.output(x_vals[i-1]): controller(measurement)\n",
        "    x_vals[i] = rk2_step(dyn_func=plant.dynamics,\n",
        "                         u_func=u_func,\n",
        "                         x=x_vals[i-1],\n",
        "                         t=t_vals[i-1],\n",
        "                         delta_t=delta_t)\n",
        "  return t_vals, x_vals"
      ],
      "metadata": {
        "id": "NLUplayc_NfC"
      },
      "execution_count": null,
      "outputs": []
    },
    {
      "cell_type": "markdown",
      "source": [
        "## DummmyController\n",
        "This is just an example controller class that always returns 0."
      ],
      "metadata": {
        "id": "RlNw32D6ex-H"
      }
    },
    {
      "cell_type": "code",
      "source": [
        "class DummyController:\n",
        "  \"\"\"Controller that always returns 0.0\"\"\"\n",
        "  def __init__(self):\n",
        "    \"\"\"Set the value to zero.\"\"\"\n",
        "    self.value = 0.0\n",
        "  def __call__(self, measurement: float):\n",
        "    \"\"\"Return the value.\n",
        "    \n",
        "    measurement: float: current output\"\"\"\n",
        "    return self.value"
      ],
      "metadata": {
        "id": "tSuvjweDr1RQ"
      },
      "execution_count": null,
      "outputs": []
    },
    {
      "cell_type": "markdown",
      "source": [
        "## Evaluation 2\n",
        "Here, we're evaluating with our dummy controller that constantly outputs zero. I used [this matplotlib article](https://matplotlib.org/stable/gallery/subplots_axes_and_figures/two_scales.html) to do two y-axes on one plot - and honestly I think it looks ugly. I will likely not be doing it again. I'm glad I tried it, though."
      ],
      "metadata": {
        "id": "Yw2ukyCxubht"
      }
    },
    {
      "cell_type": "code",
      "source": [
        "delta_t=0.001\n",
        "x_vals = np.array([1, 0, 0])\n",
        "\n",
        "t_vals, x_vals = simulate(plant=dcmotor1,\n",
        "                          controller=DummyController(),\n",
        "                          x_0=x_vals,\n",
        "                          t_0=0,\n",
        "                          t_f=0.1,\n",
        "                          delta_t=delta_t)\n",
        "# position plot\n",
        "color = 'green'\n",
        "fig, ax1 = plt.subplots()\n",
        "ax1.set_xlabel('Time (s)')\n",
        "ax1.set_ylabel(r'Position ($\\theta$)', color=color)\n",
        "ax1.plot(t_vals, [x[1] for x in x_vals], color=color)\n",
        "ax1.tick_params(axis='y', labelcolor=color)\n",
        "\n",
        "# velocity plot\n",
        "color = '#00118f'\n",
        "ax2 = ax1.twinx()\n",
        "ax2.set_ylabel(r\"Velocity ($\\dot{\\theta}$)\", color=color)\n",
        "ax2.plot(t_vals, [x[2] for x in x_vals], color=color)\n",
        "ax2.tick_params(axis='y', labelcolor=color)\n",
        "\n",
        "\n",
        "fig.suptitle(\"Evaluation 2\")\n",
        "fig.tight_layout()\n",
        "plt.show()"
      ],
      "metadata": {
        "colab": {
          "base_uri": "https://localhost:8080/",
          "height": 302
        },
        "id": "eViOPcsKsgx4",
        "outputId": "45d362d9-e8c9-4949-936a-6c1da11b8f48"
      },
      "execution_count": null,
      "outputs": [
        {
          "output_type": "display_data",
          "data": {
            "text/plain": [
              "<Figure size 432x288 with 2 Axes>"
            ],
            "image/png": "[encoded data removed]"
          },
          "metadata": {
            "needs_background": "light"
          }
        }
      ]
    },
    {
      "cell_type": "markdown",
      "source": [
        "### Reflection\n",
        "This output, as expected, matches my Evaulation 2 from Practicum 1-2: it matches my fourth (4th) plot from that evaulation exactly. I explained in that reflection why these outputs make sense so I'll spare that here. What matters is this output matching our previous evaluation shows the refactor hasn't broken anything, and so I'm good to move on to trying out some *controllers*!\n",
        "\n",
        "Now that I've used custom colors to be easier on the eyes in that double plot, I don't mind it as much... hmm.... maybe I will use it in the future. "
      ],
      "metadata": {
        "id": "IzaxLY92q2Xp"
      }
    },
    {
      "cell_type": "markdown",
      "source": [
        "## PID Controller\n",
        "I'll utilize a similar class structure to the DC motor for the PID controller."
      ],
      "metadata": {
        "id": "L7021-GYv5sC"
      }
    },
    {
      "cell_type": "markdown",
      "source": [
        "### PIDControllerConfig\n",
        "Similar to **DCMotorConfig** - simply a dataclass to hold a bunch of constant values to avoid having to deal with five (5) separate float values all the time."
      ],
      "metadata": {
        "id": "G38yZFFMrCbi"
      }
    },
    {
      "cell_type": "code",
      "source": [
        "@dataclass\n",
        "class PIDControllerConfig:\n",
        "  \"\"\"Storing config constants for a PID controller.\n",
        "  \n",
        "  Kp: float: proportional constant\n",
        "  Ki: float: integral constant\n",
        "  Kd: float: derivative constant\n",
        "  delta_t: float: time step\n",
        "  setpoint: float: desired output / reference\"\"\"\n",
        "  Kp: float\n",
        "  Ki: float\n",
        "  Kd: float\n",
        "  delta_t: float\n",
        "  setpoint: float"
      ],
      "metadata": {
        "id": "Pcx3Jj5Nvvzp"
      },
      "execution_count": null,
      "outputs": []
    },
    {
      "cell_type": "markdown",
      "source": [
        "### PIDController\n",
        "**PIDController** implementes a PID controller, utilizing the constant values stored in a **PIDControllerConfig** instance. \n",
        "\n",
        "* **init** stores the constant values for PID as member variables and \n",
        "initializes member variables for cumulative error and instantaneous previous error.\n",
        "* **call** function implements PID control. It takes a measurement as an argument and returns the input value. It implements the following equations:\n",
        "\n",
        "**Error:**\n",
        "$$e(t)=r(t)-y(t)$$\n",
        "**Input:**\n",
        "$$u(t)=K_pe(t)+K_I\\int_0^te(\\tau)d\\tau+K_D\\frac{de(t)}{dt}$$\n",
        "\n",
        "Essentially, a PID controller provides input for a system based on the error of the output: error being defined as the output - desired value. As can be seen in the $u(t)$ equation above, it has three components summed together: \n",
        "\n",
        " Name | Integration Component| Numerical Calculation\n",
        "-------| ------|-------- \n",
        "Proportional | $K_pe(t)$ | constant * current error\n",
        "Integral | $K_I\\int_0^te(\\tau)d\\tau$ | backwards rectangular estimation\n",
        "Derivative | $K_D\\frac{de(t)}{dt}$ | slope of current error\n",
        "\n",
        "Each of these has their own constant so the influence each has on the final input value can be tweaked. This is investigated in Evaluation 3."
      ],
      "metadata": {
        "id": "7Clz8sai0mCN"
      }
    },
    {
      "cell_type": "code",
      "source": [
        "class PIDController:\n",
        "  def __init__(self, cfg: PIDControllerConfig) -> None:\n",
        "    \"\"\"Set up member variables.\n",
        "    \n",
        "    cfg: PIDControllerConfig: all the constants for a PID controller\"\"\"\n",
        "    self.Kp = cfg.Kp\n",
        "    self.Ki = cfg.Ki\n",
        "    self.Kd = cfg.Kd\n",
        "    self.delta_t = cfg.delta_t\n",
        "    self.setpoint = cfg.setpoint\n",
        "\n",
        "    self.cum_error = 0\n",
        "    self.prior_error = 0\n",
        "\n",
        "  def __call__(self, measurement: float) -> float:\n",
        "    \"\"\"Implementing PID.\n",
        "    \n",
        "    measurement: float: the current output of plant\"\"\"\n",
        "    e = (self.setpoint-measurement)\n",
        "    self.cum_error += e*self.delta_t\n",
        "\n",
        "    p = self.Kp*e\n",
        "    i = self.Ki*self.cum_error\n",
        "    d = self.Kd*(e-self.prior_error)/self.delta_t\n",
        "\n",
        "    self.prior_error = e\n",
        "    \n",
        "    return p+i+d"
      ],
      "metadata": {
        "id": "6mn9eChowDgR"
      },
      "execution_count": null,
      "outputs": []
    },
    {
      "cell_type": "markdown",
      "source": [
        "## Evaluation 3\n",
        "Now we're tying everything together, combining our **DCMotor** with our **PIDController.**"
      ],
      "metadata": {
        "id": "7j_dBLW5rNPZ"
      }
    },
    {
      "cell_type": "markdown",
      "source": [
        "## Plotting function\n",
        "Per usual, I went over the top and wrote a function to do all my plotting. This time, it's so I can pass in lists of initial conditions, controllers, and plants to plot many different conditions side-by-side all at once, which I think is a good structure that I'll continue to use moving into the future. I've broken down the structure of my plotting functions before, so I won't needlessly repeat myself here."
      ],
      "metadata": {
        "id": "ZZePvnxm2c0K"
      }
    },
    {
      "cell_type": "code",
      "source": [
        "def plotting(plant: list,\n",
        "             controller: list,\n",
        "             x_0: list[ArrayLike],\n",
        "             duration: float, \n",
        "             delta_t: float,\n",
        "             title: str):\n",
        "  \"\"\"Plot theta and theta_dot of list of plant/controller/\n",
        "  x_0 combinations.\n",
        "  \n",
        "  plant: list: plants to be plotted\n",
        "  controller: list: controllers to be plotted\n",
        "  x_0: list[ArrayLike]: 2d arrays of initial conditions to be plotted\n",
        "  duration: float: length of time to integrate over\n",
        "  delta_t: float: time step value to plot\n",
        "  title: str: title for the plot\"\"\"\n",
        "  # Create a new figure\n",
        "  fig = plt.figure(figsize=(15, 5))\n",
        "  axs = fig.subplots(2, len(controller))\n",
        "  plt.subplots_adjust(wspace=0.4,\n",
        "                    hspace=0.4)\n",
        "  plt.suptitle(title,\n",
        "               fontsize='x-large')\n",
        "  \n",
        "  for i in range(len(plant)):\n",
        "    # plt.subplot(2, len(u), i+1)\n",
        "    t_vals, x_vals = simulate(plant=plant[i],\n",
        "                              controller=controller[i],\n",
        "                              x_0=x_0[i],\n",
        "                              t_0=0,\n",
        "                              t_f=duration,\n",
        "                              delta_t=delta_t)\n",
        "    axs[0, i].plot(t_vals, [x[1] for x in x_vals])\n",
        "    \n",
        "    # Adding appropriate labels\n",
        "    axs[0, i].set_title(f\"$K_P$:{controller[i].Kp} \" \n",
        "                        f\"$K_I$:{controller[i].Ki} \"\n",
        "                        f\"$K_D$:{controller[i].Kd}\")\n",
        "    axs[0, i].set_xlabel(\"Time $(s)$\")\n",
        "    axs[0, i].set_ylabel(\"Position $(\\Theta)$\")\n",
        "\n",
        "    # plt.subplot(2, len(b), i+(1+len(b)))\n",
        "    axs[1, i].plot(t_vals, [x[2] for x in x_vals], color=\"red\")\n",
        "    \n",
        "    # Adding appropriate labels\n",
        "    axs[1, i].set_xlabel(\"Time $(s)$\")\n",
        "    axs[1, i].set_ylabel(\"Speed $(\\dot{\\Theta})$\")"
      ],
      "metadata": {
        "id": "dCMqj8ZN-wNy"
      },
      "execution_count": null,
      "outputs": []
    },
    {
      "cell_type": "markdown",
      "source": [
        "Now, to initialize all the lists and call the function..."
      ],
      "metadata": {
        "id": "AcGXQdCH7-gY"
      }
    },
    {
      "cell_type": "code",
      "source": [
        "# Input constants\n",
        "title = \"Evaluation 3\"\n",
        "duration = 14\n",
        "delta_t=0.001\n",
        "cfg = DCMotorConfig(R=1.8, L=0.85e-2, Km=4.6, Ktau=6.2, b=0.035, J=0.032)\n",
        "dcmotor1 = DCMotor(cfg=cfg)\n",
        "\n",
        "# Input lists\n",
        "plant_list = [dcmotor1,\n",
        "              dcmotor1,\n",
        "              dcmotor1,\n",
        "              dcmotor1]\n",
        "controller_list = [\n",
        "PIDController(cfg=PIDControllerConfig(Kp=10,\n",
        "                                      Ki=100,\n",
        "                                      Kd=0,\n",
        "                                      delta_t=delta_t,\n",
        "                                      setpoint=1.0)),\n",
        "PIDController(cfg=PIDControllerConfig(Kp=0,\n",
        "                                      Ki=10,\n",
        "                                      Kd=0,\n",
        "                                      delta_t=delta_t,\n",
        "                                      setpoint=1.0)),\n",
        "PIDController(cfg=PIDControllerConfig(Kp=2.0,\n",
        "                                      Ki=0,\n",
        "                                      Kd=0,\n",
        "                                      delta_t=delta_t,\n",
        "                                      setpoint=1.0)),\n",
        "PIDController(cfg=PIDControllerConfig(Kp=10.0,\n",
        "                                      Ki=0,\n",
        "                                      Kd=0,\n",
        "                                      delta_t=delta_t,\n",
        "                                      setpoint=1.0)),]\n",
        "x_vals = np.array([[1, 0, 0],\n",
        "                   [1, 0, 0],\n",
        "                   [1, 0, 0],\n",
        "                   [1, 0, 0]])\n",
        "\n",
        "# Calling the plotter\n",
        "plotting(plant=plant_list,\n",
        "         controller=controller_list,\n",
        "         x_0=x_vals,\n",
        "         duration=duration, \n",
        "         delta_t=delta_t,\n",
        "         title=title)"
      ],
      "metadata": {
        "colab": {
          "base_uri": "https://localhost:8080/",
          "height": 373
        },
        "id": "LAylcvGf6gDJ",
        "outputId": "595bc609-a333-4372-ca69-cd76b8e09c6e"
      },
      "execution_count": null,
      "outputs": [
        {
          "output_type": "display_data",
          "data": {
            "text/plain": [
              "<Figure size 1080x360 with 8 Axes>"
            ],
            "image/png": "[encoded data removed]"
          },
          "metadata": {
            "needs_background": "light"
          }
        }
      ]
    },
    {
      "cell_type": "markdown",
      "source": [
        "### Reflection\n",
        "\n",
        "\n",
        "1.   $K_p$ = 10, $K_I$ = 100, $K_d$ = 0\n",
        "    * **under-damped**, ringing. It eventually gets to the correct output, but it takes a while, by constantly over and then under compensating. Based on how 3 and 4 look, it appears that including the integral component here is causing it to overshoot both positively and negatively.\n",
        "1.   $K_p$ = 0, $K_I$ = 10, $K_d$ = 0\n",
        "    * **not at all damped**, never gets near a steady state. This further supports my hypothesis from 1, as this just rings forever, seemingly. Without a proportional element, having just the integral element doesn't work at all.\n",
        "1.   $K_p$ = 2.0, $K_I$ = 0, $K_d$ = 0\n",
        "    * **over-damped**, takes a while to get to the target value. With just the proportional element, it never overshoots, it just hits an asymptote.\n",
        "1.   $K_p$ = 10, $K_I$ = 0, $K_d$ = 0\n",
        "    * **critically-damped**, gets to the desired value relatively quickly and stays there. This is similar to 3 except with the proportial coefficient being larger, it gets larger more quickly.\n",
        "\n",
        "\n",
        "Overall, this has been a really cool practicum! Learning better ways to structure Python code is always appreciated, and I can really see the benefits here. I've known about data classes before, but this is my first time implementing them, and it's cool finally using them myself. This is also a great example of using interfaces instead of inheritance, which is something we had drilled into our heads in 428, but never clearly demonstrated."
      ],
      "metadata": {
        "id": "OT_7J5g0rjrK"
      }
    }
  ]
}