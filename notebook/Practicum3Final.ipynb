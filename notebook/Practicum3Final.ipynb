{
  "nbformat": 4,
  "nbformat_minor": 0,
  "metadata": {
    "colab": {
      "provenance": [],
      "toc_visible": true
    },
    "kernelspec": {
      "name": "python3",
      "display_name": "Python 3"
    },
    "language_info": {
      "name": "python"
    }
  },
  "cells": [
    {
      "cell_type": "markdown",
      "source": [
        "# Imports"
      ],
      "metadata": {
        "id": "kEDq4Rf1HZZQ"
      }
    },
    {
      "cell_type": "markdown",
      "source": [
        "# New Section"
      ],
      "metadata": {
        "id": "dXxeunWOG377"
      }
    },
    {
      "cell_type": "code",
      "source": [
        "!pip install control\n",
        "# Colab does not come with this library\n",
        "import control\n",
        "import cmath\n",
        "# Allows you to make complex numbers"
      ],
      "metadata": {
        "colab": {
          "base_uri": "https://localhost:8080/"
        },
        "id": "vsBnycXKhYFG",
        "outputId": "2604ee28-bfdd-4d08-895e-efdb003cc74c"
      },
      "execution_count": null,
      "outputs": [
        {
          "output_type": "stream",
          "name": "stdout",
          "text": [
            "Looking in indexes: https://pypi.org/simple, https://us-python.pkg.dev/colab-wheels/public/simple/\n",
            "Collecting control\n",
            "  Downloading control-0.9.3.post2-py3-none-any.whl (432 kB)\n",
            "\u001b[2K     \u001b[90m━━━━━━━━━━━━━━━━━━━━━━━━━━━━━━━━━━━━━━━\u001b[0m \u001b[32m432.8/432.8 kB\u001b[0m \u001b[31m9.5 MB/s\u001b[0m eta \u001b[36m0:00:00\u001b[0m\n",
            "\u001b[?25hRequirement already satisfied: matplotlib in /usr/local/lib/python3.9/dist-packages (from control) (3.7.1)\n",
            "Requirement already satisfied: numpy in /usr/local/lib/python3.9/dist-packages (from control) (1.22.4)\n",
            "Requirement already satisfied: scipy>=1.3 in /usr/local/lib/python3.9/dist-packages (from control) (1.10.1)\n",
            "Requirement already satisfied: python-dateutil>=2.7 in /usr/local/lib/python3.9/dist-packages (from matplotlib->control) (2.8.2)\n",
            "Requirement already satisfied: pillow>=6.2.0 in /usr/local/lib/python3.9/dist-packages (from matplotlib->control) (8.4.0)\n",
            "Requirement already satisfied: pyparsing>=2.3.1 in /usr/local/lib/python3.9/dist-packages (from matplotlib->control) (3.0.9)\n",
            "Requirement already satisfied: importlib-resources>=3.2.0 in /usr/local/lib/python3.9/dist-packages (from matplotlib->control) (5.12.0)\n",
            "Requirement already satisfied: fonttools>=4.22.0 in /usr/local/lib/python3.9/dist-packages (from matplotlib->control) (4.39.3)\n",
            "Requirement already satisfied: contourpy>=1.0.1 in /usr/local/lib/python3.9/dist-packages (from matplotlib->control) (1.0.7)\n",
            "Requirement already satisfied: packaging>=20.0 in /usr/local/lib/python3.9/dist-packages (from matplotlib->control) (23.0)\n",
            "Requirement already satisfied: cycler>=0.10 in /usr/local/lib/python3.9/dist-packages (from matplotlib->control) (0.11.0)\n",
            "Requirement already satisfied: kiwisolver>=1.0.1 in /usr/local/lib/python3.9/dist-packages (from matplotlib->control) (1.4.4)\n",
            "Requirement already satisfied: zipp>=3.1.0 in /usr/local/lib/python3.9/dist-packages (from importlib-resources>=3.2.0->matplotlib->control) (3.15.0)\n",
            "Requirement already satisfied: six>=1.5 in /usr/local/lib/python3.9/dist-packages (from python-dateutil>=2.7->matplotlib->control) (1.16.0)\n",
            "Installing collected packages: control\n",
            "Successfully installed control-0.9.3.post2\n"
          ]
        }
      ]
    },
    {
      "cell_type": "code",
      "source": [
        "import math\n",
        "import matplotlib.pyplot as plt\n",
        "import matplotlib.patches as mpatches\n",
        "import matplotlib\n",
        "import numpy as np\n",
        "from numpy.typing import ArrayLike\n",
        "from typing import List\n",
        "from typing import Tuple\n",
        "# from typing import str\n",
        "from math import pi"
      ],
      "metadata": {
        "id": "nHJ-hXPusul3"
      },
      "execution_count": null,
      "outputs": []
    },
    {
      "cell_type": "markdown",
      "source": [
        "# Practicum 3-1\n",
        "Week 1 of the project!"
      ],
      "metadata": {
        "id": "hZICOzKBqi3u"
      }
    },
    {
      "cell_type": "markdown",
      "source": [
        "## DCMotor\n",
        "**DCMotorConfig**, **DCMotorDynamics**, and **DCMotor** are the classes we made for Practicum 2 to handle all of our DCMotor stuff. It's copied here, mostly unchanged from last week, for us to make a controller for it later! Since I thoroughly documented it last time, I won't repeat that here. Just for my own reference:\n",
        "$$\\begin{bmatrix}\n",
        "x_1 \\\\ x_2 \\\\ x_3\n",
        "\\end{bmatrix}\\equiv\n",
        "\\begin{bmatrix}\n",
        "i \\\\\n",
        "\\theta \\\\\n",
        "\\dot{\\theta}\n",
        "\\end{bmatrix}$$\n",
        "\n",
        "The one change I made was adding a member variable for the C matrix to **DCMotor**. This is so I can use it when calculating the feedforwad gain, $k_f$, later. I also updated my **output()** method to use this matrix."
      ],
      "metadata": {
        "id": "RYW88umNs7uq"
      }
    },
    {
      "cell_type": "code",
      "source": [
        "from dataclasses import dataclass\n",
        "@dataclass\n",
        "class DCMotorConfig:\n",
        "  \"\"\"Store constant values for a DC Motor.\n",
        "  \n",
        "  R: float: resistance (Ohms)\n",
        "  L: float: inductance (Henry)\n",
        "  b: float: dampening (Nms)\n",
        "  J: float: moment of inertia (kgm^2)\n",
        "  K_m: float: back emf constant\n",
        "  K_tau: float: motor torque constant\"\"\"\n",
        "  R: float\n",
        "  L: float\n",
        "  b: float\n",
        "  J: float\n",
        "  Km: float\n",
        "  Ktau: float\n",
        "\n",
        "  \n",
        "class DCMotorDynamics:\n",
        "  \"\"\"Dynamics for a DC motor.\"\"\"\n",
        "  def __init__(self, motor_cfg: DCMotorConfig) -> None:\n",
        "    \"\"\"Create A and B matrices from the motor_cfg.\n",
        "    \n",
        "    motor_cfg: DCMotorConfig: dc motor config constants\"\"\"\n",
        "    self.A = np.array([[-1*motor_cfg.R/motor_cfg.L, 0, -1*motor_cfg.Km/motor_cfg.L],\n",
        "                       [0, 0, 1],\n",
        "                       [motor_cfg.Ktau/motor_cfg.J, 0, -1*motor_cfg.b/motor_cfg.J]])\n",
        "    self.B = np.array([[1/motor_cfg.L],\n",
        "                       [0],\n",
        "                       [0]])\n",
        "  def __call__(self, x: ArrayLike, u: float) -> ArrayLike:\n",
        "    \"\"\"Perform xdot = Ax+Ub.\n",
        "    \n",
        "    x: ArrayLike: x\n",
        "    u: float: input\"\"\"\n",
        "    a_term = np.dot(self.A,x)\n",
        "    b_term = self.B*u\n",
        "    return a_term + b_term\n",
        "\n",
        "class DCMotor:\n",
        "  \"\"\"Wrapper that abstracts away DCMotorDynamics.\"\"\"\n",
        "  def __init__(self, cfg: DCMotorConfig) -> None:\n",
        "    \"\"\"Inits dynamics.\n",
        "    \n",
        "    cfg: DCMotorConfig: dc motor config constants\"\"\"\n",
        "    self.config = cfg\n",
        "    self.dynamics = DCMotorDynamics(cfg)\n",
        "    self.C = np.array([0, 1, 0])\n",
        "  \n",
        "  def output(self, x: ArrayLike) -> float:\n",
        "    \"\"\"Returns theta.\n",
        "    \n",
        "    x: ArrayLike: x\"\"\"\n",
        "    return self.C@x"
      ],
      "metadata": {
        "id": "V1ySzRzas4ng"
      },
      "execution_count": null,
      "outputs": []
    },
    {
      "cell_type": "markdown",
      "source": [
        "Just to make sure this refactor of the output function didn't change anything, I'm going to re-create Evaluation 1 from Practicum 2-1. \n",
        "\n",
        "I disliked how the column vectors were printed, so I wrote a function to decrease the precision that was printed, but then I google'd it and there's a way to change that setting in numpy... So, the Evaluation 1 printed output shows what my function prints, and 2 and 3 show the default numpy printing when changing the precision to 3."
      ],
      "metadata": {
        "id": "6FykbdHciVu2"
      }
    },
    {
      "cell_type": "code",
      "source": [
        "def pretty_column_print(list: ArrayLike):\n",
        "  \"\"\"Print column vectors with less precision.\"\"\"\n",
        "  to_print = \"[\"\n",
        "  for x in list:\n",
        "    to_print += f\"[{f'{x[0]:.2f}': ^8}]\\n \"\n",
        "  print(to_print[:-2] + \"]\")\n",
        "\n",
        "# I could've just used this...\n",
        "np.set_printoptions(precision=3)\n",
        "\n",
        "cfg = DCMotorConfig(R=1.8, L=0.85e-2, Km=4.6, Ktau=6.2, b=0.035, J=0.032)\n",
        "dcmotor1 = DCMotor(cfg=cfg)\n",
        "print(f\"Evaluation 1:\")\n",
        "pretty_column_print(dcmotor1.dynamics(x=np.array([[0], [0], [0]]), u=2.0))\n",
        "print(f\"Evaluation 2:\\n{dcmotor1.dynamics(x=np.array([[0], [0], [0]]), u=-2.0)}\")\n",
        "print(f\"Evaluation 3:\\n{dcmotor1.dynamics(x=np.array([[1], [0], [0]]), u=0.0)}\")"
      ],
      "metadata": {
        "colab": {
          "base_uri": "https://localhost:8080/"
        },
        "id": "pa-69iaTiXzN",
        "outputId": "91832d7b-5c1e-4171-8e7f-e2d494780bf9"
      },
      "execution_count": null,
      "outputs": [
        {
          "output_type": "stream",
          "name": "stdout",
          "text": [
            "Evaluation 1:\n",
            "[[ 235.29 ]\n",
            " [  0.00  ]\n",
            " [  0.00  ]]\n",
            "Evaluation 2:\n",
            "[[-235.294]\n",
            " [   0.   ]\n",
            " [   0.   ]]\n",
            "Evaluation 3:\n",
            "[[-211.765]\n",
            " [   0.   ]\n",
            " [ 193.75 ]]\n"
          ]
        }
      ]
    },
    {
      "cell_type": "markdown",
      "source": [
        "As expected, these outputs match Evaluation 1 from Practicum 2-1, except they are now column vectors instead of row vectors as before. Hopefully this doesn't break anything later! *Foreshadowing is a literary device...*"
      ],
      "metadata": {
        "id": "jTPM4cxE68aD"
      }
    },
    {
      "cell_type": "code",
      "source": [
        "print(f\"Evaluation 4: {dcmotor1.output(np.array([0, 1, 2]))}\")"
      ],
      "metadata": {
        "colab": {
          "base_uri": "https://localhost:8080/"
        },
        "id": "0cog5VyD6k9X",
        "outputId": "b12b3525-8ff8-4f8b-eb53-70b21c3e6a7d"
      },
      "execution_count": null,
      "outputs": [
        {
          "output_type": "stream",
          "name": "stdout",
          "text": [
            "Evaluation 4: 1\n"
          ]
        }
      ]
    },
    {
      "cell_type": "markdown",
      "source": [
        "This is just a simple test to make sure that the 2nd item in the array is still being returned with the refactored **output()** method and, indeed, it is."
      ],
      "metadata": {
        "id": "kPNFIlXf6nLf"
      }
    },
    {
      "cell_type": "markdown",
      "source": [
        "## Controllability\n",
        "To determine controllability, we need to first calculate the controllability grammian. **ctrb()** implements the following equation to do so, assuming an N-dimensional system:\n",
        "\n",
        "$$C = [B \\quad AB ... A^{n-1}B]$$\n",
        "\n",
        "This occurs in the following steps:\n",
        "  1. Create a C matrix that contains the first term, just B.\n",
        "  ```\n",
        "  C = B\n",
        "  ```\n",
        "  1. Enter for loop with boundary conditions based on the shape of A.\n",
        "  ```\n",
        "  for i in range (1, A.shape)\n",
        "  ```\n",
        "    1. Raise A to the power of the iterator.\n",
        "    ```\n",
        "    A = np.matrix_power(A, i)\n",
        "    ```\n",
        "    1. Multiply it by B.\n",
        "    ```\n",
        "    A = A@B\n",
        "    ```\n",
        "    1. Horizontally stack this onto the C matrix.\n",
        "    ```\n",
        "    np.hstack(C, A)\n",
        "    ```"
      ],
      "metadata": {
        "id": "x3A_qkH-t08S"
      }
    },
    {
      "cell_type": "code",
      "source": [
        "def ctrb(A: ArrayLike, B: ArrayLike) -> ArrayLike:\n",
        "  \"\"\"Return the controlability matrix.\n",
        "  C = [B AB...]\"\"\"\n",
        "  C = B\n",
        "  for i in range(1, A.shape[0]):\n",
        "    temp_a = np.linalg.matrix_power(A, i)\n",
        "    C = np.hstack((C, temp_a@B))\n",
        "  return C"
      ],
      "metadata": {
        "id": "Zg5ckaHlkS0Y"
      },
      "execution_count": null,
      "outputs": []
    },
    {
      "cell_type": "markdown",
      "source": [
        "I then wrote a function that takes the controllability matrix we just calculated and determins if it's controllable or not. All this function does is calculate the determinite of C, and returns a boolean.\n",
        "\n",
        "If the determinant != 0, then we know that it's full rank, making it controllable! We return True in this case. If the determinant = 0, then it's not controllable and we return False :("
      ],
      "metadata": {
        "id": "tMWX4GpmHjWQ"
      }
    },
    {
      "cell_type": "code",
      "source": [
        "def is_controllable(C: ArrayLike) -> bool:\n",
        "  \"\"\"Calculates determinate of C. If != 0,\n",
        "  is full rank, and therefore controllable.\"\"\"\n",
        "  if np.linalg.det(C) == '0':\n",
        "    return False\n",
        "  else:\n",
        "    return True"
      ],
      "metadata": {
        "id": "aTMxZcKlHiG4"
      },
      "execution_count": null,
      "outputs": []
    },
    {
      "cell_type": "markdown",
      "source": [
        "Testing **ctrb()**: We can manually calculate the controllability formula for some values and pass them in and ensure the output matches.\n",
        "\n",
        "$$\\dot{x}=\\begin{bmatrix}\n",
        "1 & 2 \\\\\n",
        "0 & -3\n",
        "\\end{bmatrix}x +\n",
        "\\begin{bmatrix}\n",
        "0 \\\\\n",
        "1\n",
        "\\end{bmatrix}u\n",
        "$$\n",
        "The formula to calculate the controllability grammian for this model is:\n",
        "$$C = [B \\quad AB]$$\n",
        "First, I'll calculate AB:\n",
        "$$AB=\\begin{bmatrix}\n",
        "1 & 2 \\\\\n",
        "0 & -3\n",
        "\\end{bmatrix}\n",
        "\\begin{bmatrix}\n",
        "0 \\\\\n",
        "1\n",
        "\\end{bmatrix}\n",
        "$$\n",
        "$$\n",
        "AB=\\begin{bmatrix}\n",
        "2 \\\\\n",
        "-3\n",
        "\\end{bmatrix}\n",
        "$$\n",
        "Therefore:\n",
        "$$C = [B \\quad AB]$$\n",
        "$$\n",
        "C=\\begin{bmatrix}\n",
        "0 & 2 \\\\\n",
        "1 & -3\n",
        "\\end{bmatrix}\n",
        "$$\n"
      ],
      "metadata": {
        "id": "n7dqmZh8mSo9"
      }
    },
    {
      "cell_type": "code",
      "source": [
        "C = ctrb(A=np.array([[1, 2], [0, -3]]), B=np.array([[0], [1]]))\n",
        "print(f\"C =\\n{C}\")"
      ],
      "metadata": {
        "colab": {
          "base_uri": "https://localhost:8080/"
        },
        "id": "URnyM_aPmXMe",
        "outputId": "6b0e1e22-74fb-4e2b-c279-f462c935fde5"
      },
      "execution_count": null,
      "outputs": [
        {
          "output_type": "stream",
          "name": "stdout",
          "text": [
            "C =\n",
            "[[ 0  2]\n",
            " [ 1 -3]]\n"
          ]
        }
      ]
    },
    {
      "cell_type": "markdown",
      "source": [
        "We can see the output of our **ctrb()** function is what we expect!"
      ],
      "metadata": {
        "id": "LOEYRp5fh7OC"
      }
    },
    {
      "cell_type": "markdown",
      "source": [
        "Testing **is_controllable():** We can manually calculate the determinant of this controllability grammian and then pass it in to ensure the output is correct based on that.\n",
        "\n",
        "$$A=\\begin{bmatrix}\n",
        "a & b \\\\\n",
        "c & d \\\\\n",
        "\\end{bmatrix}\n",
        "\\begin{vmatrix}\n",
        "A\n",
        "\\end{vmatrix}=ad-bc \\\\\n",
        "C=\\begin{bmatrix}\n",
        "0 & 2 \\\\\n",
        "1 & -3\n",
        "\\end{bmatrix} \\\\\n",
        "\\begin{vmatrix}\n",
        "C\n",
        "\\end{vmatrix}= (0)(-3) - (2)(1) \\\\\n",
        "\\begin{vmatrix}\n",
        "C\n",
        "\\end{vmatrix}=-2\n",
        "$$\n",
        "Since our determinant of C is nonzero, we know that it's full rank, meaning it is controllable!"
      ],
      "metadata": {
        "id": "tSe4SpOzd25J"
      }
    },
    {
      "cell_type": "code",
      "source": [
        "print(f\"True/False, C is controllable: {is_controllable(C)}\")"
      ],
      "metadata": {
        "colab": {
          "base_uri": "https://localhost:8080/"
        },
        "id": "dhP6tDM_eXk-",
        "outputId": "9de58733-070f-4b24-d1dc-1458703719af"
      },
      "execution_count": null,
      "outputs": [
        {
          "output_type": "stream",
          "name": "stdout",
          "text": [
            "True/False, C is controllable: True\n"
          ]
        }
      ]
    },
    {
      "cell_type": "markdown",
      "source": [
        "Our **is_controllable()** outputs what we expect for the controllability of C!"
      ],
      "metadata": {
        "id": "6SbQ05n5iK_x"
      }
    },
    {
      "cell_type": "markdown",
      "source": [
        "## Evaluation 1\n",
        "I'm going to check the controllability of the DC motor model we've defined using  **ctrb()** and **is_controllable()**. I'll then check the eigenvalues and talk about what they all mean.\n",
        "\n",
        "I also wrote a **pretty_row_print()** function because I disliked how the output looked for this row vector. All it does is go through each value in a row vector, printing each comma-delimited value at a precision of 2, wrapping the whole thing in brackets. This was entirely unnecessary, but I like the output."
      ],
      "metadata": {
        "id": "iSEBQVDfq7m3"
      }
    },
    {
      "cell_type": "code",
      "source": [
        "def pretty_row_print(list: ArrayLike):\n",
        "  \"\"\"Add commas, remove weird padding, \n",
        "  change the precision of the output of \n",
        "  a row vector and print it.\"\"\"\n",
        "  to_print = \"[\"\n",
        "  for x in list:\n",
        "    to_print += f\"{x:.2f}, \"\n",
        "  print(to_print[:-2] + \"]\")\n",
        "\n",
        "C = ctrb(A=dcmotor1.dynamics.A,B=dcmotor1.dynamics.B)\n",
        "print(f\"True/False, C is controllable: {is_controllable(C)}\")\n",
        "print(f\"Eigenvalues for this plant: \", end=\"\")\n",
        "pretty_row_print(np.linalg.eigvals(dcmotor1.dynamics.A))"
      ],
      "metadata": {
        "colab": {
          "base_uri": "https://localhost:8080/"
        },
        "id": "y6hK_gz4q7T3",
        "outputId": "5d8bfe70-b4eb-4d84-9d53-1355fcb0afac"
      },
      "execution_count": null,
      "outputs": [
        {
          "output_type": "stream",
          "name": "stdout",
          "text": [
            "True/False, C is controllable: True\n",
            "Eigenvalues for this plant: [0.00+0.00j, -106.43+306.20j, -106.43-306.20j]\n"
          ]
        }
      ]
    },
    {
      "cell_type": "markdown",
      "source": [
        "### Reflection\n",
        "My controllability function says that this DC model is controllable! Its eigenvalues both have negative real components, which means it's nominally stable! Controllability checks both the A and B matrix together, whereas stability only checks A.\n",
        "\n",
        "These results make sense - we discussed in lecture that nominally stable essentially means it remains stable until it receives an input, and then it's no longer stable. That makes sense for a DC motor - once it's powered, it will turn, and it won't return back to its original position until it receives power again."
      ],
      "metadata": {
        "id": "kBQUt7bPufNw"
      }
    },
    {
      "cell_type": "markdown",
      "source": [
        "## State Feedback Regulator\n",
        "**StateFeedbackRegulator** implements a state feedback controller, using passed vales for $K$, $K_f$, and setpoint (or $r$).\n",
        "![State Feedback Regulator](https://drive.google.com/uc?export=view&id=1GBiB4joBPKAaFGgXIB_-vvPn0LA6DLKV)\n",
        "$$\\text{Figure taken from page 7-10 of FBS}$$\n",
        "\n",
        "* **init** stores the constant values for $K$, $K_f$, and **setpoint** as member variables.\n",
        "* **call** function implements state feedback control. It takes a measurement, $x$, as an argument and returns the input value. $u$. It implements:\n",
        "$u=-kx+k_f*r$\n",
        "\n",
        "A state feedback controller essentially takes the current output, or *feedback*, of our system and uses that to adjust the state of said system. It does this using closed loop poles / eigenvalues; providing an input to achieve a stable output reaching the desired setpoint, $r$. \n",
        "\n",
        "In theory, poles are chosen for desired system characteristics. This week we're arbitrarily using poles Dr. Martin has provided for us and seeing how they affect our system, but next week we'll be implementing a way to design our own!"
      ],
      "metadata": {
        "id": "4PeH_fpV2J6e"
      }
    },
    {
      "cell_type": "code",
      "source": [
        "class StateFeedbackRegulator:\n",
        "  def __init__(self,\n",
        "               K: ArrayLike,\n",
        "               k_f: float,\n",
        "               setpoint: float) -> None:\n",
        "    \"\"\"Store K, k_f, and setpoint for use by the __call__ routine.\"\"\"\n",
        "    self.k = K\n",
        "    self.k_f = k_f\n",
        "    self.setpoint = setpoint\n",
        "\n",
        "  def __call__(self, x: ArrayLike) -> float:\n",
        "    \"\"\"Compute the state feedback regulator as discussed in class\n",
        "    Note: u should be a scalar since this is a single input system.\"\"\"\n",
        "    return -1 * self.k @ x +self.k_f*self.setpoint\n"
      ],
      "metadata": {
        "id": "aHO4KaAaqUNv"
      },
      "execution_count": null,
      "outputs": []
    },
    {
      "cell_type": "markdown",
      "source": [
        "One of the constants of our **StateFeedbackRegulator** class is $k_f$, which needs to be passed to the constructor. **feedforward_gain()** implents the following equation:\n",
        "$$k_f=\\frac{-1}{C(A-BK)^{-1}B}$$\n",
        "It basically starts from the innermost part of the equation in the denominator and works its way back out."
      ],
      "metadata": {
        "id": "c_xTSThVwQmJ"
      }
    },
    {
      "cell_type": "code",
      "source": [
        "def feedforward_gain(K: ArrayLike,\n",
        "                     A: ArrayLike,\n",
        "                     B: ArrayLike,\n",
        "                     C: ArrayLike) -> float:\n",
        "  \"\"\"Calculate the feedforward gain.\"\"\"\n",
        "  denom_temp = (A-B@K)\n",
        "  denom_temp = np.linalg.inv(denom_temp)\n",
        "  denom_temp = C@denom_temp\n",
        "  denom = denom_temp@B\n",
        "  return -1/denom"
      ],
      "metadata": {
        "id": "xBrhrTamv6NM"
      },
      "execution_count": null,
      "outputs": []
    },
    {
      "cell_type": "markdown",
      "source": [
        "Now we have everything we neeed for a state feedback controller! Before we get into the integration, let's just try passing it some values and seeing what we get back..."
      ],
      "metadata": {
        "id": "l0Lp7A7n2Y92"
      }
    },
    {
      "cell_type": "code",
      "source": [
        "A = dcmotor1.dynamics.A\n",
        "B = dcmotor1.dynamics.B\n",
        "C = dcmotor1.C\n",
        "\n",
        "# These numbers are pretty small...\n",
        "np.set_printoptions(precision=6)\n",
        "K = control.acker(A=A, B=B, poles=[-2,-6-6j,-6+6j])\n",
        "print(f\"K value from our DC motor: {K}\")\n",
        "K_f = feedforward_gain(K=K, A=A, B=B, C=C)\n",
        "print(f\"K_f value from our DC motor: {K_f}\")\n",
        "state_reg = StateFeedbackRegulator(K=K, k_f=K_f, setpoint=0)\n",
        "print(\"\\nTrying out the state feedback regulator with a setpoint of 0:\")\n",
        "print(f\"U value with a non-zero current: {state_reg(np.array([[1],[0],[0]]))}\")\n",
        "print(f\"U value with a non-zero position: {state_reg(np.array([[0],[1],[0]]))}\")\n",
        "print(f\"U value with a non-zero speed: {state_reg(np.array([[0],[0],[1]]))}\")"
      ],
      "metadata": {
        "colab": {
          "base_uri": "https://localhost:8080/"
        },
        "id": "_bnFe0I8vd8C",
        "outputId": "a975d6f9-8cb7-438e-f535-99ea2a7a8827"
      },
      "execution_count": null,
      "outputs": [
        {
          "output_type": "stream",
          "name": "stdout",
          "text": [
            "K value from our DC motor: [[-1.690297  0.006317 -4.596408]]\n",
            "K_f value from our DC motor: [0.006317]\n",
            "\n",
            "Trying out the state feedback regulator with a setpoint of 0:\n",
            "U value with a non-zero current: [[1.690297]]\n",
            "U value with a non-zero position: [[-0.006317]]\n",
            "U value with a non-zero speed: [[4.596408]]\n"
          ]
        }
      ]
    },
    {
      "cell_type": "markdown",
      "source": [
        "Honestly, I'm not quite sure what to expect here. Anything non-zero probably seems good. Abdul & I compared our $k_f$ values and we got the same thing, which is reassuring. \n",
        "\n",
        "Knowing what I know about the DC Motor, I think the U-value tests make sense. With a setpoint of 0, it makes sense that the U-value is largest with a non-zero speed, slightly smaller with a non-zero current, and very tiny with a non-zero position. The speed and current directly affect the position (what we're trying to get to 0), whereas the position itself doesn't really affect that.\n",
        "\n",
        "It will take integration/simulation tests to know for sure, though, which is what I'm doing next!"
      ],
      "metadata": {
        "id": "qdIYw8En2byG"
      }
    },
    {
      "cell_type": "markdown",
      "source": [
        "## Integration\n",
        "My tech debt finally caught up with me. For this week's matrix calculations to work, I needed to use a column vector as my initial conditions instead of a row vector. Unfortunately, my **rk2_step()** and **simulate()** functions both expect my initial conditions to be a row vector, so they don't work now that I'm using column vectors.\n",
        "\n",
        "Fortunately, splitting the stepper and simulate functions up last week helps me out immensely here. Since the inputs only need to be a column vector when doing the stepping, I can make a switcharoo in the stepper function. I transpose the row vector x values passed in, do the calculations as a column vector, and transpose it back to a row to pass it back to the simulate() function. I didn't think such a short shoddy workaround would do the trick, but it does. *Certainly, this won't bite me in the rear again later on in this course...*\n",
        "\n",
        "The only other change made here is the lambda for the u func in **simulate()** to account for the fact that our new controller takes in our entire set of x values instead of just position.\n",
        "\n",
        "Everything else is the same as Practicum 2, so I'll avoid re-explaining all of that for brevity."
      ],
      "metadata": {
        "id": "7WbtbyHJzy1P"
      }
    },
    {
      "cell_type": "code",
      "source": [
        "from typing import Callable\n",
        "\n",
        "def rk2_step(dyn_func: Callable,\n",
        "             u_func: Callable,\n",
        "             x: ArrayLike,\n",
        "             t: float,\n",
        "             delta_t: float) -> ArrayLike:\n",
        "  \"\"\"Computing f1, f2, and x_k_1. Contains a workaroud\n",
        "  to the fact that I misunderstood how to write this simulate\n",
        "  function day1, and have been working with row vectors since,\n",
        "  when in reality I should've been using columns.\n",
        "  \n",
        "  dyn_func: Callable: function being integrated\n",
        "  u_func: Callable: input function\n",
        "  x: ArrayLike: x_k value using to estimate x_k_1\n",
        "  t: float: current time \n",
        "  delta_t: float: time step\"\"\"\n",
        "  # Converting the input from a column to a row vector\n",
        "  x = np.atleast_2d(x).T\n",
        "  \n",
        "  f_1 = dyn_func(x=x,u=u_func(t))\n",
        "  f_2 = dyn_func(x=x + delta_t/2*f_1, u=u_func(t+delta_t/2))\n",
        "\n",
        "  x_k_1 = x + delta_t*f_2\n",
        "  # Converting the output from a row to a column vector\n",
        "  x_k_1 = x_k_1.T\n",
        "  return x_k_1\n",
        "\n",
        "def simulate(plant, \n",
        "             controller,\n",
        "             x_0: ArrayLike,\n",
        "             t_0: float,\n",
        "             t_f: float,\n",
        "             delta_t: float) -> Tuple[ArrayLike, ArrayLike]:\n",
        "  \"\"\"Generalized integrator function that uses a\n",
        "  stepper function to be more modular.\n",
        "  \n",
        "  plant: what we are controlling\n",
        "  controller: controller from which input is received\n",
        "  x_0: ArrayLike: initial conditions\n",
        "  t_0: float: initial time\n",
        "  t_f: float: final time\n",
        "  delta_t: float: time step\"\"\"\n",
        "  # Generate our t values\n",
        "  t_vals = np.arange(start=t_0, \n",
        "                      stop=t_f+delta_t, \n",
        "                      step=delta_t)\n",
        "\n",
        "  # Creating our result array\n",
        "  x_vals = np.zeros([len(t_vals), np.shape(x_0)[0]])\n",
        "  x_vals[0] = x_0\n",
        "\n",
        "  # Using our stepper\n",
        "  for i in range(1, len(t_vals)):\n",
        "    u_func = lambda t, state=x_vals[i-1]: controller(state)\n",
        "    x_vals[i] = rk2_step(dyn_func=plant.dynamics,\n",
        "                         u_func=u_func,\n",
        "                         x=x_vals[i-1],\n",
        "                         t=t_vals[i-1],\n",
        "                         delta_t=delta_t)\n",
        "  return t_vals, x_vals"
      ],
      "metadata": {
        "id": "NLUplayc_NfC"
      },
      "execution_count": null,
      "outputs": []
    },
    {
      "cell_type": "markdown",
      "source": [
        "## Plotter\n",
        "Per usual, I went over the top and wrote a function to do all my plotting. This time, it's so I can plot the three different sets of poles in separate blocks to do my calculations after each. I've broken down the structure of my plotting functions before, so I won't needlessly repeat myself here."
      ],
      "metadata": {
        "id": "rZNGnY_22g4P"
      }
    },
    {
      "cell_type": "code",
      "source": [
        "def eval2_plot(plant,\n",
        "               controller,\n",
        "               x_0: ArrayLike,\n",
        "               duration: float, \n",
        "               delta_t: float,\n",
        "               title: str):\n",
        "  \"\"\"Plot theta over time on a grid.\n",
        "  \n",
        "  plant: plant to be plotted\n",
        "  controller: controller to be plotted\n",
        "  x_0: ArrayLike: initial conditions to be plotted\n",
        "  duration: float: length of time to integrate over\n",
        "  delta_t: float: time step value to plot\n",
        "  title: str: title for the plot\"\"\"\n",
        "  # Create a new figure\n",
        "  plt.figure(figsize=(12,5))\n",
        "  \n",
        "  # Simulate\n",
        "  t_vals, x_vals = simulate(plant=plant,\n",
        "                            controller=controller,\n",
        "                            x_0=x_0,\n",
        "                            t_0=0,\n",
        "                            t_f=duration,\n",
        "                            delta_t=delta_t)\n",
        "  # Plot\n",
        "  plt.plot(t_vals, [x[1] for x in x_vals])\n",
        "  \n",
        "  # Adding appropriate labels\n",
        "  plt.title(title)\n",
        "  plt.grid(which='major', color='#AAAAAA', linewidth=1.0)\n",
        "  plt.grid(which='minor', color='#DDDDDD', linewidth=0.8)\n",
        "  plt.minorticks_on()\n",
        "  plt.xlabel(\"Time $(s)$\")\n",
        "  plt.ylabel(\"Position $(\\Theta)$\")"
      ],
      "metadata": {
        "id": "AvZVzHmwlFei"
      },
      "execution_count": null,
      "outputs": []
    },
    {
      "cell_type": "markdown",
      "source": [
        "## Evaluation 2\n",
        "We haven't quite gotten to designing our own poles yet, so this evaluation is plotting three different sets of poles with our state feedback regulator and DC motor to investigate how they impact our response."
      ],
      "metadata": {
        "id": "6gpJQh86uWfr"
      }
    },
    {
      "cell_type": "code",
      "source": [
        "# Input constants\n",
        "duration = 6\n",
        "delta_t=0.001\n",
        "cfg = DCMotorConfig(R=1.8, L=0.85e-2, Km=4.6, Ktau=6.2, b=0.035, J=0.032)\n",
        "dcmotor1 = DCMotor(cfg=cfg)\n",
        "\n",
        "A = dcmotor1.dynamics.A\n",
        "B = dcmotor1.dynamics.B\n",
        "C = dcmotor1.C"
      ],
      "metadata": {
        "id": "cQ9EEP4b0-0y"
      },
      "execution_count": null,
      "outputs": []
    },
    {
      "cell_type": "markdown",
      "source": [
        "### Pole Set 1"
      ],
      "metadata": {
        "id": "2GZlUeRE29BH"
      }
    },
    {
      "cell_type": "code",
      "source": [
        "K = control.acker(A=A, B=B, poles=[-2,-6-6j,-6+6j])\n",
        "K_f = feedforward_gain(K=K, A=A, B=B, C=C)\n",
        "title = '-2,-6-6j,-6+6j'\n",
        "eval2_plot(plant=dcmotor1,\n",
        "     controller=StateFeedbackRegulator(K=K, k_f=K_f, setpoint=1),\n",
        "     x_0=np.array([0, 0, 0]),\n",
        "     duration=duration,\n",
        "     delta_t=delta_t,\n",
        "     title=title)"
      ],
      "metadata": {
        "colab": {
          "base_uri": "https://localhost:8080/",
          "height": 489
        },
        "id": "6adpyS6Eor_N",
        "outputId": "cdc04b67-a625-40de-d26f-0af7b29f9e61"
      },
      "execution_count": null,
      "outputs": [
        {
          "output_type": "display_data",
          "data": {
            "text/plain": [
              "<Figure size 1200x500 with 1 Axes>"
            ],
            "image/png": "[encoded data removed]"
          },
          "metadata": {}
        }
      ]
    },
    {
      "cell_type": "markdown",
      "source": [
        "**Calculations**\n",
        "* **rise time(10% to 90%):** $\\approx$ 1.4s - 0.4s $\\approx$ 1.0s\n",
        "* **settling time (5% margin):** $\\approx$ 3.7s\n",
        "* **overshoot:** $\\approx$ 20%"
      ],
      "metadata": {
        "id": "hAdXJl0D2_66"
      }
    },
    {
      "cell_type": "markdown",
      "source": [
        "### Pole Set 2"
      ],
      "metadata": {
        "id": "hE-CjRQc3Fen"
      }
    },
    {
      "cell_type": "code",
      "source": [
        "K = control.acker(A=A, B=B, poles=[-20,-6-6j,-6+6j])\n",
        "K_f = feedforward_gain(K=K, A=A, B=B, C=C)\n",
        "title = '-20,-6-6j,-6+6j'\n",
        "eval2_plot(plant=dcmotor1,\n",
        "     controller=StateFeedbackRegulator(K=K, k_f=K_f, setpoint=1),\n",
        "     x_0=np.array([0, 0, 0]),\n",
        "     duration=duration,\n",
        "     delta_t=delta_t,\n",
        "     title=title)"
      ],
      "metadata": {
        "colab": {
          "base_uri": "https://localhost:8080/",
          "height": 489
        },
        "id": "oVjiT4aEpQ9d",
        "outputId": "833c902b-4abe-44f0-d224-79388292500a"
      },
      "execution_count": null,
      "outputs": [
        {
          "output_type": "display_data",
          "data": {
            "text/plain": [
              "<Figure size 1200x500 with 1 Axes>"
            ],
            "image/png": "[encoded data removed]"
          },
          "metadata": {}
        }
      ]
    },
    {
      "cell_type": "markdown",
      "source": [
        "**Calculations**\n",
        "* **rise time(10% to 90%):** $\\approx$ 0.5s - 0.1s $\\approx$ 0.4s\n",
        "* **settling time (5% margin):** $\\approx$ 1.4s\n",
        "* **overshoot:** $\\approx$ 25%"
      ],
      "metadata": {
        "id": "s0A3iO-43Zpp"
      }
    },
    {
      "cell_type": "markdown",
      "source": [
        "### Pole Set 3"
      ],
      "metadata": {
        "id": "bhi1gCG63G84"
      }
    },
    {
      "cell_type": "code",
      "source": [
        "K = control.acker(A=A, B=B, poles=[-2,-60-60j,-60+6j])\n",
        "K_f = feedforward_gain(K=K, A=A, B=B, C=C)\n",
        "title = '-2,-60-60j,-60+6j'\n",
        "eval2_plot(plant=dcmotor1,\n",
        "     controller=StateFeedbackRegulator(K=K, k_f=K_f, setpoint=1),\n",
        "     x_0=np.array([0, 0, 0]),\n",
        "     duration=duration,\n",
        "     delta_t=delta_t,\n",
        "     title=title)"
      ],
      "metadata": {
        "colab": {
          "base_uri": "https://localhost:8080/",
          "height": 489
        },
        "id": "BgpIo9XxpZjB",
        "outputId": "61f7f5eb-d0a2-470e-e580-247825f30ded"
      },
      "execution_count": null,
      "outputs": [
        {
          "output_type": "display_data",
          "data": {
            "text/plain": [
              "<Figure size 1200x500 with 1 Axes>"
            ],
            "image/png": "[encoded data removed]"
          },
          "metadata": {}
        }
      ]
    },
    {
      "cell_type": "markdown",
      "source": [
        "**Calculations**\n",
        "* **rise time(10% to 90%):** $\\approx$ 1.2s - 0.1s $\\approx$ 1.1s\n",
        "* **settling time (5% margin):** $\\approx$ 1.6s\n",
        "* **overshoot:** 0%"
      ],
      "metadata": {
        "id": "jeo6fjKW3axA"
      }
    },
    {
      "cell_type": "markdown",
      "source": [
        "### Reflection\n",
        "\n",
        "The second set of poles (*-20,-6-6j,-6+6j*) had the fastest rise time. It also had the fastest settling time. The third set of poles (*-2,-60-60j,-60+6j*) had the lowest overshoot - as it didn't overshoot at all.\n",
        "\n",
        "Overall, these three plots reflect what we learned in class well - there's no pros without cons. No benefits without drawbacks. No free lunch, so to speak. While set 3 had no overshoot, it had the slowest rise time. While set 2 had the fastest rise time, it had the most overshoot. Set 1 is like a jack of all trades, master of none: middle of the road rise time, middle of the road overshoot, the worst settling time.\n",
        "\n",
        "So, what this shows is the importance of picking our poles by designing them for whatever is important to us: if rise time matters we can design for that, for example. Looking forward to doing that next week!"
      ],
      "metadata": {
        "id": "l01F7Cxn3dW5"
      }
    },
    {
      "cell_type": "markdown",
      "source": [
        "# Practicum 3-2\n",
        "Week two!"
      ],
      "metadata": {
        "id": "9cyi8ZGohMpc"
      }
    },
    {
      "cell_type": "markdown",
      "source": [
        "## Updating our DC Motor constants\n",
        "Apparently, using our old DC motor constants caused some strange math weirdness with this week's poles, so we're updating our constants to be about an order of magnitude larger in most cases.\n",
        "\n",
        "Old values:\n",
        "$$R=1.8\\Omega, L=0.85E*10^{-2}H, J=0.032, b=0.035$$\n",
        "New values:\n",
        "$$R=10\\Omega, L=0.85H, J=0.32, b=0.35$$"
      ],
      "metadata": {
        "id": "-tdeNcGHhec-"
      }
    },
    {
      "cell_type": "code",
      "source": [
        "cfg = DCMotorConfig(R=10, L=0.85, Km=4.6, Ktau=6.2, b=0.35, J=0.32)\n",
        "dcmotor1 = DCMotor(cfg=cfg)\n",
        "print(cfg)"
      ],
      "metadata": {
        "colab": {
          "base_uri": "https://localhost:8080/"
        },
        "id": "Hj7fgaUxhweu",
        "outputId": "ab3b8e9f-422f-4611-e1c9-4d7f77faaa60"
      },
      "execution_count": null,
      "outputs": [
        {
          "output_type": "stream",
          "name": "stdout",
          "text": [
            "DCMotorConfig(R=10, L=0.85, b=0.35, J=0.32, Km=4.6, Ktau=6.2)\n"
          ]
        }
      ]
    },
    {
      "cell_type": "markdown",
      "source": [
        "## Designing our own poles\n",
        "Last week we arbitrarily used poles we were told to use. This week we will decide what we want the response of our system to look like and go backwards from there to get the poles. Below is a table containing all the useful equations for rise time $T_r$, overshoot $M_p$, and settling time $T_s$.\n",
        "\n",
        "| Property | Value |\n",
        "| --- | ----------- |\n",
        "| Rise time (inverse slope) | $$T_r=\\frac{e^{\\varphi/\\tan{\\varphi}}}{\\omega_0}$$ |\n",
        "| Overshoot | $$M_p=e^{-\\pi\\zeta/\\sqrt{1-\\zeta^2}} $$ |\n",
        "| Settling Time (2%) | $$T_s\\approx\\frac{4}{\\zeta\\omega_0}$$ | \n",
        "\n",
        "Now we will build python functions to derive these mathematically."
      ],
      "metadata": {
        "id": "LY_EWz1ViM03"
      }
    },
    {
      "cell_type": "markdown",
      "source": [
        "### Rise Time (inverse slope)\n",
        "Rise time equation:\n",
        "$$T_r=\\frac{e^{\\varphi/\\tan{\\varphi}}}{\\omega_0} $$\n",
        "The equation for varphi ($\\varphi$):\n",
        "$$\\varphi=\\arccos{\\zeta}$$"
      ],
      "metadata": {
        "id": "zY21g8mBj2Ff"
      }
    },
    {
      "cell_type": "code",
      "source": [
        "import math\n",
        "def rise_time(damping: float,\n",
        "              omega: float) -> float:\n",
        "  \"\"\"Calculate rise time.\n",
        "  \n",
        "  damping: float: zeta\n",
        "  omega: float: omega\"\"\"\n",
        "  var_phi = math.acos(damping)\n",
        "  e = math.exp(var_phi/math.tan(var_phi))\n",
        "  return e/omega"
      ],
      "metadata": {
        "id": "scXwS6SUj9sJ"
      },
      "execution_count": null,
      "outputs": []
    },
    {
      "cell_type": "markdown",
      "source": [
        "### Overshoot\n",
        "Overshoot equation:\n",
        "$$M_p=e^{-\\pi\\zeta/\\sqrt{1-\\zeta^2}} $$\n",
        "Solving it for $\\zeta$ (damping ratio):\n",
        "$$\\zeta = \\frac{1}{\\sqrt{\\frac{\\pi^2}{(\\log{M_p})^2}+1}}\n",
        "$$"
      ],
      "metadata": {
        "id": "7kxbGzJKjVIB"
      }
    },
    {
      "cell_type": "code",
      "source": [
        "def overshoot(damping: float) -> float:\n",
        "  \"\"\"Calculate overshoot given a damping ratio.\n",
        "\n",
        "  damping: float: zeta\n",
        "  \"\"\"\n",
        "  num = -math.pi * damping\n",
        "  den = math.sqrt(1 - damping**2)\n",
        "  return math.exp(num/den)\n",
        "\n",
        "def damping_ratio(m_p: float) -> float:\n",
        "  \"\"\"Calculate damping ratio given an overshoot.\n",
        "\n",
        "  M_p: float: overshoot\n",
        "  \"\"\"\n",
        "  a = (math.log(m_p))**2\n",
        "  b = (math.pi**2 / a) + 1\n",
        "  return 1 / math.sqrt(b)"
      ],
      "metadata": {
        "id": "xxn1J0U3idNH"
      },
      "execution_count": null,
      "outputs": []
    },
    {
      "cell_type": "markdown",
      "source": [
        "### Settling Time\n",
        "The equation for finding settling time is:\n",
        "$$T_s\\approx\\frac{4}{\\zeta\\omega_0}$$\n",
        "Solving this for $\\omega_0$:\n",
        "$$\\omega_0\\approx\\frac{4}{\\zeta T_s}$$"
      ],
      "metadata": {
        "id": "DLyVVkggjzXY"
      }
    },
    {
      "cell_type": "code",
      "source": [
        "def omega_0(damping: float,\n",
        "            t_s:float) -> float:\n",
        "  \"\"\"Solve for omega from a settling time.\n",
        "  \n",
        "  damping: float: zeta\n",
        "  t_s: float: setling time\"\"\"\n",
        "  return 4 / (damping*t_s)"
      ],
      "metadata": {
        "id": "uNab-Ogfj-ug"
      },
      "execution_count": null,
      "outputs": []
    },
    {
      "cell_type": "markdown",
      "source": [
        "### Putting it all together\n",
        "Now that we have all our important variables defined, we can put them all together in one function to solve for the eivenvalues. This function will:\n",
        "1. Find damping $\\zeta$ from overshoot $M_p$\n",
        "1. Find omega $\\omega_0$ from damping $\\zeta$ and settling time $T_s$\n",
        "1. Use $\\omega_0$ and $\\zeta$ to find the eigenvalues by implementing the following equation:\n",
        "$$\\lambda=-\\zeta\\omega_0\\pm\\omega_0\\sqrt{\\zeta^2-1}$$"
      ],
      "metadata": {
        "id": "N8r6NCkBqa2b"
      }
    },
    {
      "cell_type": "code",
      "source": [
        "from cmath import sqrt\n",
        "def get_eigenvalues(m_p: float,\n",
        "                    t_s:float,\n",
        "                    debug:bool = False):\n",
        "  \"\"\"Solving for the eigenvalues given overshoot\n",
        "  and settling time.\n",
        "\n",
        "  M_p: float: overshoot\n",
        "  T_S: float: settling time\n",
        "  \"\"\"\n",
        "  damping = damping_ratio(m_p=m_p)\n",
        "  omega = omega_0(damping=damping, t_s=t_s)\n",
        "  plus = -1*damping*omega + omega*sqrt(damping**2-1)\n",
        "  minus = -1*damping*omega - omega*sqrt(damping**2-1)\n",
        "  if (debug):\n",
        "    print(f\"{damping=} {omega=}\")\n",
        "\n",
        "  return plus, minus"
      ],
      "metadata": {
        "id": "OigJ7tSvq3yB"
      },
      "execution_count": null,
      "outputs": []
    },
    {
      "cell_type": "markdown",
      "source": [
        "To test out my new function, I'm gonna try the values for this week and compare them to others in the class..."
      ],
      "metadata": {
        "id": "pBjpzM3hGyVY"
      }
    },
    {
      "cell_type": "code",
      "source": [
        "print(get_eigenvalues(m_p=0.15, t_s=1.0, debug=True))\n",
        "print(get_eigenvalues(m_p=0.10, t_s=0.5, debug=True))\n",
        "print(get_eigenvalues(m_p=0.01, t_s=0.1, debug=True))"
      ],
      "metadata": {
        "colab": {
          "base_uri": "https://localhost:8080/"
        },
        "id": "91DqZyD3sQnC",
        "outputId": "e6c80e6a-7483-4ef8-aa6c-b599e53b03bb"
      },
      "execution_count": null,
      "outputs": [
        {
          "output_type": "stream",
          "name": "stdout",
          "text": [
            "damping=0.5169308662051556 omega=7.737978637964541\n",
            "((-4+6.62391979130149j), (-4-6.62391979130149j))\n",
            "damping=0.5911550337988976 omega=13.532829025560636\n",
            "((-7.999999999999999+10.915010830734728j), (-7.999999999999999-10.915010830734728j))\n",
            "damping=0.8260850546139571 omega=48.42116411208123\n",
            "((-40+27.287527076836824j), (-40-27.287527076836824j))\n"
          ]
        }
      ]
    },
    {
      "cell_type": "markdown",
      "source": [
        "~~These values match Abdul's, so I think I'm good to go.~~\n",
        "\n",
        "Turns out I wasn't - we had the same first set of poles but different later sets of poles because I made a PEMDAS error in my **omega_0** function. I originally had:\n",
        "\n",
        "```  return 4 / damping*t_s``` \n",
        "\n",
        "instead of\n",
        "\n",
        "```  return 4 / (damping*t_s)```,\n",
        "\n",
        "We didn't notice a discrepency in the first set of poles because with a t_s value of 1.0, the lack of multiplying by it $t_s$ properly didn't change anything."
      ],
      "metadata": {
        "id": "fm0aRBipvbcc"
      }
    },
    {
      "cell_type": "markdown",
      "source": [
        "## Integration\n",
        "Basically the same integrator as before, but I modified **simulate()** to also return the U values for plotting later. The one design consideration to make note of is the fact that I assume U is 0 at t=0."
      ],
      "metadata": {
        "id": "STt_dQQDve19"
      }
    },
    {
      "cell_type": "code",
      "source": [
        "def rk2_step(dyn_func: Callable,\n",
        "             u_func: Callable,\n",
        "             x: ArrayLike,\n",
        "             t: float,\n",
        "             delta_t: float) -> ArrayLike:\n",
        "  \"\"\"Computing f1, f2, and x_k_1. Contains a workaroud\n",
        "  to the fact that I misunderstood how to write this simulate\n",
        "  function day1, and have been working with row vectors since,\n",
        "  when in reality I should've been using columns.\n",
        "  \n",
        "  dyn_func: Callable: function being integrated\n",
        "  u_func: Callable: input function\n",
        "  x: ArrayLike: x_k value using to estimate x_k_1\n",
        "  t: float: current time \n",
        "  delta_t: float: time step\"\"\"\n",
        "  # Converting the input from a column to a row vector\n",
        "  x = np.atleast_2d(x).T\n",
        "  \n",
        "  f_1 = dyn_func(x=x,u=u_func(t))\n",
        "  f_2 = dyn_func(x=x + delta_t/2*f_1, u=u_func(t+delta_t/2))\n",
        "\n",
        "  x_k_1 = x + delta_t*f_2\n",
        "  # Converting the output from a row to a column vector\n",
        "  x_k_1 = x_k_1.T\n",
        "  return x_k_1\n",
        "\n",
        "def simulate(plant, \n",
        "             controller,\n",
        "             x_0: ArrayLike,\n",
        "             t_0: float,\n",
        "             t_f: float,\n",
        "             delta_t: float) -> Tuple[ArrayLike, ArrayLike]:\n",
        "  \"\"\"Generalized integrator function that uses a\n",
        "  stepper function to be more modular.\n",
        "  \n",
        "  plant: what we are controlling\n",
        "  controller: controller from which input is received\n",
        "  x_0: ArrayLike: initial conditions\n",
        "  t_0: float: initial time\n",
        "  t_f: float: final time\n",
        "  delta_t: float: time step\"\"\"\n",
        "  # Generate our t values\n",
        "  t_vals = np.arange(start=t_0, \n",
        "                      stop=t_f+delta_t, \n",
        "                      step=delta_t)\n",
        "\n",
        "  # Creating our result array\n",
        "  x_vals = np.zeros([len(t_vals), np.shape(x_0)[0]])\n",
        "  x_vals[0] = x_0\n",
        "\n",
        "  # Now we need U history\n",
        "  u_func = lambda t, state=x_vals[0]: controller(state)\n",
        "  u_vals = np.zeros(len(t_vals))\n",
        "\n",
        "  # Using our stepper\n",
        "  for i in range(1, len(t_vals)):\n",
        "    u_func = lambda t, state=x_vals[i-1]: controller(state)\n",
        "    u_vals[i] = u_func(t_vals[i-1])\n",
        "    x_vals[i] = rk2_step(dyn_func=plant.dynamics,\n",
        "                         u_func=u_func,\n",
        "                         x=x_vals[i-1],\n",
        "                         t=t_vals[i-1],\n",
        "                         delta_t=delta_t)\n",
        "  return t_vals, x_vals, u_vals"
      ],
      "metadata": {
        "id": "CYGcuMDivjcs"
      },
      "execution_count": null,
      "outputs": []
    },
    {
      "cell_type": "markdown",
      "source": [
        "## Plotting\n",
        "Per usual, I made a plotting function to make my life easier. This one is adapted from Practicum 3-1 Evaluation 1. I tried for legitimately like half an hour to enable minor gridlines on these plots like I did in practicum 3-1, but unfortunately it seems to be unsupported in subplots, as far as I can tell. I'm doing [every command necessary](https://stackoverflow.com/questions/19940518/cannot-get-minor-grid-lines-to-appear-in-matplotlib-figure) for it, and it's not working."
      ],
      "metadata": {
        "id": "XowYZWw9xtIR"
      }
    },
    {
      "cell_type": "code",
      "source": [
        "def eval1_plot(plant,\n",
        "               controller,\n",
        "               x_0: ArrayLike,\n",
        "               duration: float, \n",
        "               delta_t: float,\n",
        "               title: str):\n",
        "  \"\"\"Plot theta over time on a grid.\n",
        "  \n",
        "  plant: plant to be plotted\n",
        "  controller: controller to be plotted\n",
        "  x_0: ArrayLike: initial conditions to be plotted\n",
        "  duration: float: length of time to integrate over\n",
        "  delta_t: float: time step value to plot\n",
        "  title: str: title for the plot\"\"\"\n",
        "  # Create a new figure\n",
        "  fig = plt.figure(figsize=(10,4))\n",
        "  axs = fig.subplots(1,2)\n",
        "  \n",
        "  # Simulate\n",
        "  t_vals, x_vals, u_vals = simulate(plant=plant,\n",
        "                            controller=controller,\n",
        "                            x_0=x_0,\n",
        "                            t_0=0,\n",
        "                            t_f=duration,\n",
        "                            delta_t=delta_t)\n",
        "  # Plot\n",
        "  color = \"green\"\n",
        "  # fig, ax1 = plt.subplots\n",
        "  axs[0].set_xlabel(\"Time $(s)$\", color=color)\n",
        "  axs[0].set_ylabel(\"Position $(\\Theta)$\", color=color)\n",
        "  axs[0].plot(t_vals, [x[1] for x in x_vals], color=color)\n",
        "  axs[0].tick_params(axis='y', labelcolor=color)\n",
        "  axs[0].minorticks_on\n",
        "  axs[0].grid(which='major', color='#AAAAAA', linewidth=1.0)\n",
        "  axs[0].grid(which='minor', color=color, linewidth=0.8)\n",
        "  axs[0].set_title(\"Output\")\n",
        "\n",
        "  color = '#00118f'\n",
        "  axs[1].set_ylabel(r\"Input (V)\", color=color)\n",
        "  axs[1].set_xlabel(\"Time $(s)$\", color=color)\n",
        "  axs[1].plot(t_vals, u_vals, color=color)\n",
        "  axs[1].tick_params(axis='y', labelcolor=color)\n",
        "  axs[1].minorticks_on\n",
        "  axs[1].grid(visible=True, which='major', color='#AAAAAA', linewidth=1.0)\n",
        "  axs[1].grid(visible=True, which='minor', color=color, linewidth=0.8)\n",
        "  axs[1].set_title(\"Control Signal\")\n",
        "  \n",
        "  # Adding appropriate labels\n",
        "  fig.suptitle(title)\n",
        "  fig.tight_layout()"
      ],
      "metadata": {
        "id": "n_eHf3iixzfv"
      },
      "execution_count": null,
      "outputs": []
    },
    {
      "cell_type": "markdown",
      "source": [
        "## Evaluation 1\n",
        "Now we get to see if our pole designing works! We have three scenarios to test; each with different overshoot and settling time values.\n",
        "\n",
        "| Scenario | Given Values |\n",
        "| ---- | --- |\n",
        "| 1 | $M_p=0.15$, $T_s=1.0$ |\n",
        "| 2 | $M_p=0.10$, $T_s=0.5$ |\n",
        "| 3 | $M_p=0.01$, $T_s=0.1$ |"
      ],
      "metadata": {
        "id": "KBqUhK0B9K-X"
      }
    },
    {
      "cell_type": "code",
      "source": [
        "cfg = DCMotorConfig(R=10, L=0.85, Km=4.6, Ktau=6.2, b=0.35, J=0.32)\n",
        "dcmotor1 = DCMotor(cfg=cfg)\n",
        "duration = 3\n",
        "delta_t = 0.001\n",
        "\n",
        "A = dcmotor1.dynamics.A\n",
        "B = dcmotor1.dynamics.B\n",
        "C = dcmotor1.C"
      ],
      "metadata": {
        "id": "EGcy3bpm9A_3"
      },
      "execution_count": null,
      "outputs": []
    },
    {
      "cell_type": "markdown",
      "source": [
        "### Scenario 1"
      ],
      "metadata": {
        "id": "x9k48gqo9OvZ"
      }
    },
    {
      "cell_type": "code",
      "source": [
        "plus, minus = get_eigenvalues(m_p=0.15, t_s=1.0)\n",
        "poles = [plus, minus, -4]\n",
        "K = control.acker(A=A, B=B, poles=poles)\n",
        "K_f = feedforward_gain(K=K, A=A, B=B, C=C)\n",
        "title = 'Scenario 1: $m_p=0.15$, $t_s=1.0$'\n",
        "eval1_plot(plant=dcmotor1,\n",
        "     controller=StateFeedbackRegulator(K=K, k_f=K_f, setpoint=1),\n",
        "     x_0=np.array([0, 0, 0]),\n",
        "     duration=duration,\n",
        "     delta_t=delta_t,\n",
        "     title=title)"
      ],
      "metadata": {
        "colab": {
          "base_uri": "https://localhost:8080/",
          "height": 413
        },
        "id": "4MiIuQ3Zx7CZ",
        "outputId": "bc50ba85-d48f-48b7-d0f8-e58a224678e7"
      },
      "execution_count": null,
      "outputs": [
        {
          "output_type": "display_data",
          "data": {
            "text/plain": [
              "<Figure size 1000x400 with 2 Axes>"
            ],
            "image/png": "[encoded data removed]"
          },
          "metadata": {}
        }
      ]
    },
    {
      "cell_type": "markdown",
      "source": [
        "Both of our specifications are met! There's less than 15% overshoot and it settles within a second. The control signal also makes sense - a peak at the beginning, a slow decline, and a bit more at the end to make it all the way to 1.0."
      ],
      "metadata": {
        "id": "SnanuGNwbGsg"
      }
    },
    {
      "cell_type": "markdown",
      "source": [
        "### Scenario 2"
      ],
      "metadata": {
        "id": "cGVG7dYe9SyH"
      }
    },
    {
      "cell_type": "code",
      "source": [
        "plus, minus = get_eigenvalues(m_p=0.10, t_s=0.5)\n",
        "poles = [plus, minus, -4]\n",
        "K = control.acker(A=A, B=B, poles=poles)\n",
        "K_f = feedforward_gain(K=K, A=A, B=B, C=C)\n",
        "title = 'Scenario 2: $m_p=0.10$, $t_s=0.5$'\n",
        "eval1_plot(plant=dcmotor1,\n",
        "     controller=StateFeedbackRegulator(K=K, k_f=K_f, setpoint=1),\n",
        "     x_0=np.array([0, 0, 0]),\n",
        "     duration=duration,\n",
        "     delta_t=delta_t,\n",
        "     title=title)"
      ],
      "metadata": {
        "colab": {
          "base_uri": "https://localhost:8080/",
          "height": 413
        },
        "id": "jmL94CV_z3He",
        "outputId": "aa1d124d-28e0-40d4-d315-dd8f4cb8aac1"
      },
      "execution_count": null,
      "outputs": [
        {
          "output_type": "display_data",
          "data": {
            "text/plain": [
              "<Figure size 1000x400 with 2 Axes>"
            ],
            "image/png": "[encoded data removed]"
          },
          "metadata": {}
        }
      ]
    },
    {
      "cell_type": "markdown",
      "source": [
        "Our overshoot was met, but our settling time was not. There's no overshoot, which is within our 10% designed, but the settling time is closer to 0.75 seconds than the desired 0.5. The control signal here also makes sense: peak at the beginning just to immediately decline, which matches the position output."
      ],
      "metadata": {
        "id": "1PVBwo6BbGWA"
      }
    },
    {
      "cell_type": "markdown",
      "source": [
        "### Scenario 3"
      ],
      "metadata": {
        "id": "K6oHB8r79TnY"
      }
    },
    {
      "cell_type": "code",
      "source": [
        "plus, minus = get_eigenvalues(m_p=0.01, t_s=0.1)\n",
        "poles = [plus, minus, -4]\n",
        "K = control.acker(A=A, B=B, poles=poles)\n",
        "K_f = feedforward_gain(K=K, A=A, B=B, C=C)\n",
        "title = 'Scenario 3: $m_p=0.01$, $t_s=0.1$'\n",
        "eval1_plot(plant=dcmotor1,\n",
        "     controller=StateFeedbackRegulator(K=K, k_f=K_f, setpoint=1),\n",
        "     x_0=np.array([0, 0, 0]),\n",
        "     duration=duration,\n",
        "     delta_t=delta_t,\n",
        "     title=title)"
      ],
      "metadata": {
        "colab": {
          "base_uri": "https://localhost:8080/",
          "height": 413
        },
        "id": "6OwP60B_0EB1",
        "outputId": "8a7deff5-c157-47f8-a2f5-d0106a3cc9f1"
      },
      "execution_count": null,
      "outputs": [
        {
          "output_type": "display_data",
          "data": {
            "text/plain": [
              "<Figure size 1000x400 with 2 Axes>"
            ],
            "image/png": "[encoded data removed]"
          },
          "metadata": {}
        }
      ]
    },
    {
      "cell_type": "markdown",
      "source": [
        "Once again, overshoot is met(0 overshoot compared to our 0.01 designed value) but settling time is not. This seems like it's because a 0.1s settling time is simply unrealistic for our system to begin with. Like Scenario 2, it seems to be around 0.75s, which indicates that it's the lowest possible *reasonable* settling time for this system. The control signal here continues to make sense and is even more extreme in its peak than Scenario 2, which matches with the much lower desired overshoot value here compared to before (0.01 compared to 0.1)."
      ],
      "metadata": {
        "id": "aQh72dOxbBz7"
      }
    },
    {
      "cell_type": "markdown",
      "source": [
        "### Reflection\n",
        "I would make the assertion that the plots with our custom-picked poles are all *critically damped.* There's basically zero (0) ringing at all. For comparison, last week's (Practicum 3-1 with the arbitrarily chosen poles) had two under-damped plots with one critically damped.\n",
        "\n",
        "The main interesting thing to note here is the law of diminishing returns - and/or physical practical reality. Scenarios 2 and 3 from this week have significantly different designed settling times but have nearly the same *actual* settling times - as discussed in scenario 3's discussion, I think this is just because of physical restraints of the system. \n",
        "\n",
        "**TL;DR:** designing poles is cool and helpful and produces much better output than picking them arbitrarily, but there are still physical, real-world constraints that these systems run into."
      ],
      "metadata": {
        "id": "SNB-5IKNbCGC"
      }
    }
  ]
}